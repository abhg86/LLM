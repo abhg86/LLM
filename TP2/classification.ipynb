{
 "cells": [
  {
   "cell_type": "markdown",
   "metadata": {},
   "source": [
    "# Classification using Word2Vec\n",
    "\n",
    "## Imports"
   ]
  },
  {
   "cell_type": "code",
   "execution_count": 1,
   "metadata": {},
   "outputs": [
    {
     "name": "stderr",
     "output_type": "stream",
     "text": [
      "/home/simon/Documents/LLM/.venv/lib/python3.12/site-packages/tqdm/auto.py:21: TqdmWarning: IProgress not found. Please update jupyter and ipywidgets. See https://ipywidgets.readthedocs.io/en/stable/user_install.html\n",
      "  from .autonotebook import tqdm as notebook_tqdm\n"
     ]
    }
   ],
   "source": [
    "import numpy as np\n",
    "import torch\n",
    "import torch.nn.functional as F\n",
    "import torch.nn as nn\n",
    "import math\n",
    "from torch.utils.data import DataLoader\n",
    "from datasets import load_dataset\n",
    "from tabulate import tabulate\n",
    "\n",
    "from tqdm.notebook import tqdm\n",
    "from transformers import BertTokenizer"
   ]
  },
  {
   "cell_type": "markdown",
   "metadata": {},
   "source": [
    "## Data preparation"
   ]
  },
  {
   "cell_type": "code",
   "execution_count": 2,
   "metadata": {},
   "outputs": [
    {
     "name": "stdout",
     "output_type": "stream",
     "text": [
      "Length of the vocabulary: 30522\n"
     ]
    }
   ],
   "source": [
    "dataset = load_dataset(\"scikit-learn/imdb\", split=\"train\")\n",
    "tokenizer = BertTokenizer.from_pretrained(\"bert-base-uncased\", do_lower_case=True)\n",
    "\n",
    "VOCSIZE = len(tokenizer.vocab)\n",
    "print(\"Length of the vocabulary:\", VOCSIZE)"
   ]
  },
  {
   "cell_type": "code",
   "execution_count": 3,
   "metadata": {},
   "outputs": [
    {
     "name": "stderr",
     "output_type": "stream",
     "text": [
      "Map: 100%|██████████| 5000/5000 [00:19<00:00, 262.25 examples/s]\n"
     ]
    }
   ],
   "source": [
    "def preprocessing_fn(x, tokenizer):\n",
    "    x[\"review_ids\"] = tokenizer(\n",
    "        x[\"review\"],\n",
    "        add_special_tokens=False,\n",
    "        truncation=True,\n",
    "        max_length=256,\n",
    "        padding=False,\n",
    "        return_attention_mask=False,\n",
    "    )[\"input_ids\"]\n",
    "    x[\"label\"] = 0 if x[\"sentiment\"] == \"negative\" else 1\n",
    "    return x\n",
    "\n",
    "n_samples = 5000  # the number of training example\n",
    "\n",
    "# We first shuffle the data !\n",
    "dataset = dataset.shuffle()\n",
    "\n",
    "# Select 5000 samples\n",
    "splitted_dataset = dataset.select(range(n_samples))\n",
    "\n",
    "# Tokenize the dataset\n",
    "splitted_dataset = splitted_dataset.map(\n",
    "    preprocessing_fn, fn_kwargs={\"tokenizer\": tokenizer}\n",
    ")\n",
    "\n",
    "\n",
    "# Remove useless columns\n",
    "splitted_dataset = splitted_dataset.select_columns([\"review_ids\", \"label\"])\n",
    "\n",
    "# Split the train and validation\n",
    "splitted_dataset = splitted_dataset.train_test_split(test_size=0.2)\n",
    "\n",
    "train_set = splitted_dataset[\"train\"]\n",
    "valid_set = splitted_dataset[\"test\"]"
   ]
  },
  {
   "cell_type": "code",
   "execution_count": 4,
   "metadata": {},
   "outputs": [],
   "source": [
    "class DataCollator:\n",
    "    def __init__(self, tokenizer):\n",
    "        self.tokenizer = tokenizer\n",
    "\n",
    "    def __call__(self, batch):\n",
    "        # `batch` is a list of dictionary with keys \"review_ids\" and \"label\".\n",
    "        features = [{\"input_ids\": x[\"review_ids\"]} for x in batch]\n",
    "        features = self.tokenizer.pad(\n",
    "            features, padding=\"max_length\", max_length=256, return_tensors=\"pt\"\n",
    "        )\n",
    "        label = torch.tensor([x[\"label\"] for x in batch])[:, None]\n",
    "        return {\"review_ids\": features[\"input_ids\"], \"label\": label}\n",
    "\n",
    "data_collator = DataCollator(tokenizer)"
   ]
  },
  {
   "cell_type": "code",
   "execution_count": 5,
   "metadata": {},
   "outputs": [],
   "source": [
    "batch_size = 32\n",
    "\n",
    "train_dataloader = DataLoader(\n",
    "    train_set, batch_size=batch_size, collate_fn=data_collator\n",
    ")\n",
    "valid_dataloader = DataLoader(\n",
    "    valid_set, batch_size=batch_size, collate_fn=data_collator\n",
    ")\n",
    "n_valid = len(valid_set)\n",
    "n_train = len(train_set)"
   ]
  },
  {
   "cell_type": "markdown",
   "metadata": {},
   "source": [
    "## Model"
   ]
  },
  {
   "cell_type": "code",
   "execution_count": 7,
   "metadata": {},
   "outputs": [],
   "source": [
    "class Conv1dClassifier(nn.Module):\n",
    "    \"\"\"A text classifier:\n",
    "    - input = minibatch\n",
    "    - output = probability associated to a binary classification task\n",
    "    - vocab_size: the number of words in the vocabulary we want to embed\n",
    "    - embedding_dim: size of the word vectors\n",
    "    \"\"\"\n",
    "\n",
    "    def __init__(self, vocab_size: int, embeddings: nn.Embedding, feature_size: int = 100, kernel_size: int = 3):\n",
    "        super().__init__()\n",
    "        self.feature_size = feature_size\n",
    "        self.embeddings = embeddings\n",
    "        self.embedding_dim = self.embeddings.embedding_dim\n",
    "\n",
    "        self.conv = nn.Conv1d(\n",
    "            self.embedding_dim,\n",
    "            feature_size,\n",
    "            kernel_size,\n",
    "            padding=math.floor(kernel_size / 2),\n",
    "        )\n",
    "\n",
    "        self.pool = nn.AdaptiveMaxPool1d(1)\n",
    "        self.dropout = nn.Dropout(0.3)\n",
    "        self.linear = nn.Linear(feature_size, 1)\n",
    "        self.out_activation = nn.Sigmoid()\n",
    "\n",
    "    def forward(self, input_ids: torch.Tensor):\n",
    "        # In pytorch, convolution expects (B,d,L)\n",
    "        # B: the batch dimension\n",
    "        # d: the embedding dimension\n",
    "        # L: the length of the sequence\n",
    "        hidden_states = self.embeddings(input_ids).permute(0, 2, 1)\n",
    "        hidden_states = F.relu(self.conv(hidden_states))\n",
    "        hidden_states = self.pool(hidden_states)  # --> (B,d,1)\n",
    "        # Before the linear, do something with dims the dimension\n",
    "        # Because Linear works on the final dim\n",
    "        # (B,d,1) -> (B,d)\n",
    "        hidden_states = hidden_states.squeeze(dim=2)\n",
    "        hidden_states = self.dropout(hidden_states)\n",
    "        logits = self.linear(hidden_states)\n",
    "        return self.out_activation(logits)"
   ]
  },
  {
   "cell_type": "code",
   "execution_count": 16,
   "metadata": {},
   "outputs": [
    {
     "name": "stdout",
     "output_type": "stream",
     "text": [
      "tensor([[0.8500, 0.1783],\n",
      "        [0.9382, 0.2586],\n",
      "        [0.8852, 0.1378],\n",
      "        [0.8088, 0.2200]])\n"
     ]
    }
   ],
   "source": [
    "device = torch.device('cuda' if torch.cuda.is_available() else 'cpu')\n",
    "\n",
    "def load_model(path: str, *, freeze: bool = False):\n",
    "  torch.serialization.add_safe_globals([nn.Embedding, set])\n",
    "  embeddings = torch.load(path, map_location=device, weights_only=True)\n",
    "\n",
    "  if freeze:\n",
    "    embeddings.weight.requires_grad = False\n",
    "\n",
    "  return Conv1dClassifier(\n",
    "    vocab_size=VOCSIZE,\n",
    "    embeddings=embeddings,\n",
    "  )\n",
    "\n",
    "def create_default_model(embedding_dim: int, *, freeze: bool = False):\n",
    "  embeddings = nn.Embedding(VOCSIZE, embedding_dim)\n",
    "\n",
    "  if freeze:\n",
    "    embeddings.weight.requires_grad = False\n",
    "\n",
    "  return Conv1dClassifier(\n",
    "    vocab_size=VOCSIZE,\n",
    "    embeddings=embeddings,\n",
    "  )\n",
    "\n",
    "\n",
    "model_default = create_default_model(25)\n",
    "model_pretrained = load_model('model_dim-25_radius-10_ratio-5-batch-1200-epoch-10.ckpt')\n",
    "\n",
    "\n",
    "# Test on random sentence\n",
    "\n",
    "random_inputs = torch.randint(0, VOCSIZE, (4, 100))\n",
    "\n",
    "with torch.no_grad():\n",
    "  print(torch.stack([\n",
    "    model_default(random_inputs),\n",
    "    model_pretrained(random_inputs),\n",
    "  ]).squeeze().T)"
   ]
  },
  {
   "cell_type": "markdown",
   "metadata": {},
   "source": [
    "## Training"
   ]
  },
  {
   "cell_type": "code",
   "execution_count": 17,
   "metadata": {},
   "outputs": [],
   "source": [
    "import matplotlib.pyplot as plt\n",
    "from tqdm import tqdm\n",
    "\n",
    "def train_model(model: nn.Module):\n",
    "  loss_function = nn.BCELoss()\n",
    "  optimizer = torch.optim.Adam(model.parameters(), lr=0.001)\n",
    "  n_epochs = 10\n",
    "  train_losses = []\n",
    "  valid_losses = []\n",
    "  train_accs = []\n",
    "  valid_accs = []\n",
    "\n",
    "  model.to(device)\n",
    "\n",
    "\n",
    "  def compute_accuracy(predictions, labels):\n",
    "      pred = (predictions > 0.5).int()\n",
    "      correct = (labels == pred).sum().item()\n",
    "      return correct\n",
    "\n",
    "\n",
    "  def train_one_epoch(model, dataloader, optimizer, loss_function):\n",
    "      model.train()\n",
    "      total_loss = 0\n",
    "      correct = 0\n",
    "      total_batches = len(dataloader)\n",
    "\n",
    "      for batch in tqdm(dataloader, leave=True):\n",
    "          batch = {k: v.to(device) for k, v in batch.items()}\n",
    "          optimizer.zero_grad()\n",
    "          probs = model(batch[\"review_ids\"])\n",
    "          gold = batch[\"label\"]\n",
    "\n",
    "          correct += compute_accuracy(probs, gold)\n",
    "          loss = loss_function(probs, gold.float())\n",
    "          loss.backward()\n",
    "          optimizer.step()\n",
    "          total_loss += loss.item()\n",
    "\n",
    "      avg_loss = total_loss / total_batches\n",
    "      avg_accuracy = (correct * 100) / n_train  # Calculate accuracy in percentage\n",
    "      return avg_loss, avg_accuracy\n",
    "\n",
    "\n",
    "  def validate_one_epoch(model, dataloader, loss_function):\n",
    "      model.eval()\n",
    "      total_loss = 0\n",
    "      correct = 0\n",
    "      total_batches = len(dataloader)\n",
    "\n",
    "      with torch.no_grad():\n",
    "          for batch in tqdm(dataloader, leave=True):\n",
    "              batch = {k: v.to(device) for k, v in batch.items()}\n",
    "              probs = model(batch[\"review_ids\"])\n",
    "              gold = batch[\"label\"]\n",
    "\n",
    "              correct += compute_accuracy(probs, gold)\n",
    "              loss = loss_function(probs, gold.float())\n",
    "              total_loss += loss.item()\n",
    "\n",
    "      avg_loss = total_loss / total_batches\n",
    "      avg_accuracy = (correct * 100) / n_valid  # Calculate accuracy in percentage\n",
    "      return avg_loss, avg_accuracy\n",
    "\n",
    "\n",
    "  for epoch in range(n_epochs):\n",
    "      train_avg_loss, train_avg_acc = train_one_epoch(\n",
    "          model, train_dataloader, optimizer, loss_function\n",
    "      )\n",
    "      valid_avg_loss, valid_avg_acc = validate_one_epoch(\n",
    "          model, valid_dataloader, loss_function\n",
    "      )\n",
    "\n",
    "      train_losses.append(train_avg_loss)\n",
    "      valid_losses.append(valid_avg_loss)\n",
    "      train_accs.append(train_avg_acc)\n",
    "      valid_accs.append(valid_avg_acc)\n",
    "\n",
    "      print(\n",
    "          f\"Epoch {epoch+1}/{n_epochs}\",\n",
    "          f\"Train Loss: {train_avg_loss:.2f}\",\n",
    "          f\"Train Acc: {train_avg_acc:.2f}%\",\n",
    "          f\" | Valid Loss: {valid_avg_loss:.2f}\",\n",
    "          f\"Valid Acc: {valid_avg_acc:.2f}%\",\n",
    "      )\n",
    "\n",
    "  return valid_accs\n",
    "\n",
    "  # # Plotting Loss and Accuracy Curves\n",
    "  # epochs_range = range(1, n_epochs + 1)\n",
    "\n",
    "  # plt.figure(figsize=(12, 5))\n",
    "\n",
    "  # # Loss plot\n",
    "  # plt.subplot(1, 2, 1)\n",
    "  # plt.plot(epochs_range, train_losses, label=\"Train Loss\")\n",
    "  # plt.plot(epochs_range, valid_losses, label=\"Validation Loss\")\n",
    "  # plt.title(\"Loss Curves\")\n",
    "  # plt.xlabel(\"Epochs\")\n",
    "  # plt.ylabel(\"Loss\")\n",
    "  # plt.legend()\n",
    "\n",
    "  # # Accuracy plot\n",
    "  # plt.subplot(1, 2, 2)\n",
    "  # plt.plot(epochs_range, train_accs, label=\"Train Accuracy\")\n",
    "  # plt.plot(epochs_range, valid_accs, label=\"Validation Accuracy\")\n",
    "  # plt.title(\"Accuracy Curves\")\n",
    "  # plt.xlabel(\"Epochs\")\n",
    "  # plt.ylabel(\"Accuracy (%)\")\n",
    "  # plt.legend()\n",
    "\n",
    "  # plt.tight_layout()\n",
    "  # plt.show()\n",
    "\n",
    "# train_model(model_default)"
   ]
  },
  {
   "cell_type": "code",
   "execution_count": 27,
   "metadata": {},
   "outputs": [
    {
     "name": "stderr",
     "output_type": "stream",
     "text": [
      "  0%|          | 0/125 [00:00<?, ?it/s]"
     ]
    },
    {
     "name": "stderr",
     "output_type": "stream",
     "text": [
      "100%|██████████| 125/125 [00:03<00:00, 37.53it/s]\n",
      "100%|██████████| 32/32 [00:00<00:00, 98.35it/s]\n"
     ]
    },
    {
     "name": "stdout",
     "output_type": "stream",
     "text": [
      "Epoch 1/10 Train Loss: 0.72 Train Acc: 53.27%  | Valid Loss: 0.66 Valid Acc: 61.60%\n"
     ]
    },
    {
     "name": "stderr",
     "output_type": "stream",
     "text": [
      "100%|██████████| 125/125 [00:03<00:00, 41.35it/s]\n",
      "100%|██████████| 32/32 [00:00<00:00, 93.42it/s]\n"
     ]
    },
    {
     "name": "stdout",
     "output_type": "stream",
     "text": [
      "Epoch 2/10 Train Loss: 0.64 Train Acc: 62.88%  | Valid Loss: 0.60 Valid Acc: 70.40%\n"
     ]
    },
    {
     "name": "stderr",
     "output_type": "stream",
     "text": [
      "100%|██████████| 125/125 [00:02<00:00, 41.97it/s]\n",
      "100%|██████████| 32/32 [00:00<00:00, 113.12it/s]\n"
     ]
    },
    {
     "name": "stdout",
     "output_type": "stream",
     "text": [
      "Epoch 3/10 Train Loss: 0.59 Train Acc: 68.45%  | Valid Loss: 0.57 Valid Acc: 72.90%\n"
     ]
    },
    {
     "name": "stderr",
     "output_type": "stream",
     "text": [
      "100%|██████████| 125/125 [00:03<00:00, 34.93it/s]\n",
      "100%|██████████| 32/32 [00:00<00:00, 86.54it/s]\n"
     ]
    },
    {
     "name": "stdout",
     "output_type": "stream",
     "text": [
      "Epoch 4/10 Train Loss: 0.56 Train Acc: 70.97%  | Valid Loss: 0.55 Valid Acc: 75.20%\n"
     ]
    },
    {
     "name": "stderr",
     "output_type": "stream",
     "text": [
      "100%|██████████| 125/125 [00:03<00:00, 39.17it/s]\n",
      "100%|██████████| 32/32 [00:00<00:00, 105.01it/s]\n"
     ]
    },
    {
     "name": "stdout",
     "output_type": "stream",
     "text": [
      "Epoch 5/10 Train Loss: 0.52 Train Acc: 74.12%  | Valid Loss: 0.52 Valid Acc: 76.80%\n"
     ]
    },
    {
     "name": "stderr",
     "output_type": "stream",
     "text": [
      "100%|██████████| 125/125 [00:02<00:00, 46.10it/s]\n",
      "100%|██████████| 32/32 [00:00<00:00, 108.56it/s]\n"
     ]
    },
    {
     "name": "stdout",
     "output_type": "stream",
     "text": [
      "Epoch 6/10 Train Loss: 0.49 Train Acc: 76.95%  | Valid Loss: 0.50 Valid Acc: 78.00%\n"
     ]
    },
    {
     "name": "stderr",
     "output_type": "stream",
     "text": [
      "100%|██████████| 125/125 [00:02<00:00, 44.61it/s]\n",
      "100%|██████████| 32/32 [00:00<00:00, 108.73it/s]\n"
     ]
    },
    {
     "name": "stdout",
     "output_type": "stream",
     "text": [
      "Epoch 7/10 Train Loss: 0.45 Train Acc: 79.83%  | Valid Loss: 0.48 Valid Acc: 78.20%\n"
     ]
    },
    {
     "name": "stderr",
     "output_type": "stream",
     "text": [
      "100%|██████████| 125/125 [00:03<00:00, 39.47it/s]\n",
      "100%|██████████| 32/32 [00:00<00:00, 95.67it/s]\n"
     ]
    },
    {
     "name": "stdout",
     "output_type": "stream",
     "text": [
      "Epoch 8/10 Train Loss: 0.40 Train Acc: 81.80%  | Valid Loss: 0.47 Valid Acc: 78.30%\n"
     ]
    },
    {
     "name": "stderr",
     "output_type": "stream",
     "text": [
      "100%|██████████| 125/125 [00:02<00:00, 41.90it/s]\n",
      "100%|██████████| 32/32 [00:00<00:00, 93.00it/s]\n"
     ]
    },
    {
     "name": "stdout",
     "output_type": "stream",
     "text": [
      "Epoch 9/10 Train Loss: 0.37 Train Acc: 82.83%  | Valid Loss: 0.45 Valid Acc: 79.20%\n"
     ]
    },
    {
     "name": "stderr",
     "output_type": "stream",
     "text": [
      "100%|██████████| 125/125 [00:03<00:00, 39.03it/s]\n",
      "100%|██████████| 32/32 [00:00<00:00, 95.39it/s]\n"
     ]
    },
    {
     "name": "stdout",
     "output_type": "stream",
     "text": [
      "Epoch 10/10 Train Loss: 0.34 Train Acc: 84.62%  | Valid Loss: 0.44 Valid Acc: 80.00%\n"
     ]
    },
    {
     "name": "stderr",
     "output_type": "stream",
     "text": [
      "100%|██████████| 125/125 [00:02<00:00, 58.97it/s]\n",
      "100%|██████████| 32/32 [00:00<00:00, 76.67it/s]\n"
     ]
    },
    {
     "name": "stdout",
     "output_type": "stream",
     "text": [
      "Epoch 1/10 Train Loss: 0.74 Train Acc: 51.20%  | Valid Loss: 0.66 Valid Acc: 61.70%\n"
     ]
    },
    {
     "name": "stderr",
     "output_type": "stream",
     "text": [
      "100%|██████████| 125/125 [00:01<00:00, 71.54it/s]\n",
      "100%|██████████| 32/32 [00:00<00:00, 98.58it/s] \n"
     ]
    },
    {
     "name": "stdout",
     "output_type": "stream",
     "text": [
      "Epoch 2/10 Train Loss: 0.65 Train Acc: 60.80%  | Valid Loss: 0.62 Valid Acc: 69.20%\n"
     ]
    },
    {
     "name": "stderr",
     "output_type": "stream",
     "text": [
      "100%|██████████| 125/125 [00:01<00:00, 74.75it/s]\n",
      "100%|██████████| 32/32 [00:00<00:00, 112.05it/s]\n"
     ]
    },
    {
     "name": "stdout",
     "output_type": "stream",
     "text": [
      "Epoch 3/10 Train Loss: 0.61 Train Acc: 65.53%  | Valid Loss: 0.59 Valid Acc: 72.30%\n"
     ]
    },
    {
     "name": "stderr",
     "output_type": "stream",
     "text": [
      "100%|██████████| 125/125 [00:01<00:00, 74.79it/s]\n",
      "100%|██████████| 32/32 [00:00<00:00, 107.59it/s]\n"
     ]
    },
    {
     "name": "stdout",
     "output_type": "stream",
     "text": [
      "Epoch 4/10 Train Loss: 0.59 Train Acc: 69.03%  | Valid Loss: 0.57 Valid Acc: 73.60%\n"
     ]
    },
    {
     "name": "stderr",
     "output_type": "stream",
     "text": [
      "100%|██████████| 125/125 [00:01<00:00, 71.89it/s]\n",
      "100%|██████████| 32/32 [00:00<00:00, 111.45it/s]\n"
     ]
    },
    {
     "name": "stdout",
     "output_type": "stream",
     "text": [
      "Epoch 5/10 Train Loss: 0.57 Train Acc: 70.72%  | Valid Loss: 0.55 Valid Acc: 74.60%\n"
     ]
    },
    {
     "name": "stderr",
     "output_type": "stream",
     "text": [
      "100%|██████████| 125/125 [00:01<00:00, 80.05it/s]\n",
      "100%|██████████| 32/32 [00:00<00:00, 110.49it/s]\n"
     ]
    },
    {
     "name": "stdout",
     "output_type": "stream",
     "text": [
      "Epoch 6/10 Train Loss: 0.54 Train Acc: 72.72%  | Valid Loss: 0.54 Valid Acc: 75.70%\n"
     ]
    },
    {
     "name": "stderr",
     "output_type": "stream",
     "text": [
      "100%|██████████| 125/125 [00:01<00:00, 75.63it/s]\n",
      "100%|██████████| 32/32 [00:00<00:00, 85.93it/s]\n"
     ]
    },
    {
     "name": "stdout",
     "output_type": "stream",
     "text": [
      "Epoch 7/10 Train Loss: 0.52 Train Acc: 74.28%  | Valid Loss: 0.53 Valid Acc: 75.20%\n"
     ]
    },
    {
     "name": "stderr",
     "output_type": "stream",
     "text": [
      "100%|██████████| 125/125 [00:01<00:00, 77.31it/s]\n",
      "100%|██████████| 32/32 [00:00<00:00, 109.81it/s]\n"
     ]
    },
    {
     "name": "stdout",
     "output_type": "stream",
     "text": [
      "Epoch 8/10 Train Loss: 0.51 Train Acc: 74.97%  | Valid Loss: 0.52 Valid Acc: 75.80%\n"
     ]
    },
    {
     "name": "stderr",
     "output_type": "stream",
     "text": [
      "100%|██████████| 125/125 [00:01<00:00, 77.59it/s]\n",
      "100%|██████████| 32/32 [00:00<00:00, 106.93it/s]\n"
     ]
    },
    {
     "name": "stdout",
     "output_type": "stream",
     "text": [
      "Epoch 9/10 Train Loss: 0.49 Train Acc: 76.88%  | Valid Loss: 0.51 Valid Acc: 76.30%\n"
     ]
    },
    {
     "name": "stderr",
     "output_type": "stream",
     "text": [
      "100%|██████████| 125/125 [00:01<00:00, 71.51it/s]\n",
      "100%|██████████| 32/32 [00:00<00:00, 110.23it/s]\n"
     ]
    },
    {
     "name": "stdout",
     "output_type": "stream",
     "text": [
      "Epoch 10/10 Train Loss: 0.48 Train Acc: 77.08%  | Valid Loss: 0.51 Valid Acc: 76.50%\n"
     ]
    },
    {
     "name": "stderr",
     "output_type": "stream",
     "text": [
      "100%|██████████| 125/125 [00:02<00:00, 42.81it/s]\n",
      "100%|██████████| 32/32 [00:00<00:00, 104.36it/s]\n"
     ]
    },
    {
     "name": "stdout",
     "output_type": "stream",
     "text": [
      "Epoch 1/10 Train Loss: 0.70 Train Acc: 50.58%  | Valid Loss: 0.69 Valid Acc: 51.30%\n"
     ]
    },
    {
     "name": "stderr",
     "output_type": "stream",
     "text": [
      "100%|██████████| 125/125 [00:02<00:00, 44.26it/s]\n",
      "100%|██████████| 32/32 [00:00<00:00, 110.13it/s]\n"
     ]
    },
    {
     "name": "stdout",
     "output_type": "stream",
     "text": [
      "Epoch 2/10 Train Loss: 0.67 Train Acc: 57.45%  | Valid Loss: 0.69 Valid Acc: 52.10%\n"
     ]
    },
    {
     "name": "stderr",
     "output_type": "stream",
     "text": [
      "100%|██████████| 125/125 [00:02<00:00, 47.10it/s]\n",
      "100%|██████████| 32/32 [00:00<00:00, 110.86it/s]\n"
     ]
    },
    {
     "name": "stdout",
     "output_type": "stream",
     "text": [
      "Epoch 3/10 Train Loss: 0.64 Train Acc: 65.70%  | Valid Loss: 0.68 Valid Acc: 57.60%\n"
     ]
    },
    {
     "name": "stderr",
     "output_type": "stream",
     "text": [
      "100%|██████████| 125/125 [00:02<00:00, 49.96it/s]\n",
      "100%|██████████| 32/32 [00:00<00:00, 116.72it/s]\n"
     ]
    },
    {
     "name": "stdout",
     "output_type": "stream",
     "text": [
      "Epoch 4/10 Train Loss: 0.58 Train Acc: 74.05%  | Valid Loss: 0.68 Valid Acc: 57.10%\n"
     ]
    },
    {
     "name": "stderr",
     "output_type": "stream",
     "text": [
      "100%|██████████| 125/125 [00:02<00:00, 50.81it/s]\n",
      "100%|██████████| 32/32 [00:00<00:00, 116.11it/s]\n"
     ]
    },
    {
     "name": "stdout",
     "output_type": "stream",
     "text": [
      "Epoch 5/10 Train Loss: 0.50 Train Acc: 83.20%  | Valid Loss: 0.67 Valid Acc: 58.30%\n"
     ]
    },
    {
     "name": "stderr",
     "output_type": "stream",
     "text": [
      "100%|██████████| 125/125 [00:02<00:00, 45.51it/s]\n",
      "100%|██████████| 32/32 [00:00<00:00, 110.37it/s]\n"
     ]
    },
    {
     "name": "stdout",
     "output_type": "stream",
     "text": [
      "Epoch 6/10 Train Loss: 0.39 Train Acc: 88.85%  | Valid Loss: 0.67 Valid Acc: 58.20%\n"
     ]
    },
    {
     "name": "stderr",
     "output_type": "stream",
     "text": [
      "100%|██████████| 125/125 [00:02<00:00, 47.90it/s]\n",
      "100%|██████████| 32/32 [00:00<00:00, 112.97it/s]\n"
     ]
    },
    {
     "name": "stdout",
     "output_type": "stream",
     "text": [
      "Epoch 7/10 Train Loss: 0.28 Train Acc: 93.70%  | Valid Loss: 0.67 Valid Acc: 61.90%\n"
     ]
    },
    {
     "name": "stderr",
     "output_type": "stream",
     "text": [
      "100%|██████████| 125/125 [00:02<00:00, 48.38it/s]\n",
      "100%|██████████| 32/32 [00:00<00:00, 116.77it/s]\n"
     ]
    },
    {
     "name": "stdout",
     "output_type": "stream",
     "text": [
      "Epoch 8/10 Train Loss: 0.19 Train Acc: 96.92%  | Valid Loss: 0.69 Valid Acc: 61.30%\n"
     ]
    },
    {
     "name": "stderr",
     "output_type": "stream",
     "text": [
      "100%|██████████| 125/125 [00:02<00:00, 48.55it/s]\n",
      "100%|██████████| 32/32 [00:00<00:00, 114.17it/s]\n"
     ]
    },
    {
     "name": "stdout",
     "output_type": "stream",
     "text": [
      "Epoch 9/10 Train Loss: 0.13 Train Acc: 98.03%  | Valid Loss: 0.71 Valid Acc: 63.20%\n"
     ]
    },
    {
     "name": "stderr",
     "output_type": "stream",
     "text": [
      "100%|██████████| 125/125 [00:02<00:00, 45.68it/s]\n",
      "100%|██████████| 32/32 [00:00<00:00, 117.88it/s]\n"
     ]
    },
    {
     "name": "stdout",
     "output_type": "stream",
     "text": [
      "Epoch 10/10 Train Loss: 0.10 Train Acc: 98.83%  | Valid Loss: 0.73 Valid Acc: 64.00%\n"
     ]
    },
    {
     "name": "stderr",
     "output_type": "stream",
     "text": [
      "100%|██████████| 125/125 [00:01<00:00, 73.59it/s]\n",
      "100%|██████████| 32/32 [00:00<00:00, 94.99it/s] \n"
     ]
    },
    {
     "name": "stdout",
     "output_type": "stream",
     "text": [
      "Epoch 1/10 Train Loss: 0.71 Train Acc: 51.02%  | Valid Loss: 0.70 Valid Acc: 51.10%\n"
     ]
    },
    {
     "name": "stderr",
     "output_type": "stream",
     "text": [
      "100%|██████████| 125/125 [00:01<00:00, 63.28it/s]\n",
      "100%|██████████| 32/32 [00:00<00:00, 95.79it/s]\n"
     ]
    },
    {
     "name": "stdout",
     "output_type": "stream",
     "text": [
      "Epoch 2/10 Train Loss: 0.68 Train Acc: 55.95%  | Valid Loss: 0.70 Valid Acc: 51.30%\n"
     ]
    },
    {
     "name": "stderr",
     "output_type": "stream",
     "text": [
      "100%|██████████| 125/125 [00:01<00:00, 63.86it/s]\n",
      "100%|██████████| 32/32 [00:00<00:00, 77.96it/s]\n"
     ]
    },
    {
     "name": "stdout",
     "output_type": "stream",
     "text": [
      "Epoch 3/10 Train Loss: 0.67 Train Acc: 59.55%  | Valid Loss: 0.69 Valid Acc: 51.90%\n"
     ]
    },
    {
     "name": "stderr",
     "output_type": "stream",
     "text": [
      "100%|██████████| 125/125 [00:01<00:00, 74.51it/s]\n",
      "100%|██████████| 32/32 [00:00<00:00, 113.11it/s]\n"
     ]
    },
    {
     "name": "stdout",
     "output_type": "stream",
     "text": [
      "Epoch 4/10 Train Loss: 0.65 Train Acc: 64.42%  | Valid Loss: 0.68 Valid Acc: 57.10%\n"
     ]
    },
    {
     "name": "stderr",
     "output_type": "stream",
     "text": [
      "100%|██████████| 125/125 [00:01<00:00, 82.10it/s]\n",
      "100%|██████████| 32/32 [00:00<00:00, 112.28it/s]\n"
     ]
    },
    {
     "name": "stdout",
     "output_type": "stream",
     "text": [
      "Epoch 5/10 Train Loss: 0.63 Train Acc: 67.03%  | Valid Loss: 0.68 Valid Acc: 56.10%\n"
     ]
    },
    {
     "name": "stderr",
     "output_type": "stream",
     "text": [
      "100%|██████████| 125/125 [00:01<00:00, 83.29it/s]\n",
      "100%|██████████| 32/32 [00:00<00:00, 115.92it/s]\n"
     ]
    },
    {
     "name": "stdout",
     "output_type": "stream",
     "text": [
      "Epoch 6/10 Train Loss: 0.59 Train Acc: 71.50%  | Valid Loss: 0.68 Valid Acc: 56.80%\n"
     ]
    },
    {
     "name": "stderr",
     "output_type": "stream",
     "text": [
      "100%|██████████| 125/125 [00:01<00:00, 76.22it/s]\n",
      "100%|██████████| 32/32 [00:00<00:00, 115.00it/s]\n"
     ]
    },
    {
     "name": "stdout",
     "output_type": "stream",
     "text": [
      "Epoch 7/10 Train Loss: 0.56 Train Acc: 74.17%  | Valid Loss: 0.68 Valid Acc: 56.50%\n"
     ]
    },
    {
     "name": "stderr",
     "output_type": "stream",
     "text": [
      "100%|██████████| 125/125 [00:01<00:00, 83.12it/s]\n",
      "100%|██████████| 32/32 [00:00<00:00, 115.20it/s]\n"
     ]
    },
    {
     "name": "stdout",
     "output_type": "stream",
     "text": [
      "Epoch 8/10 Train Loss: 0.53 Train Acc: 78.42%  | Valid Loss: 0.69 Valid Acc: 55.40%\n"
     ]
    },
    {
     "name": "stderr",
     "output_type": "stream",
     "text": [
      "100%|██████████| 125/125 [00:01<00:00, 81.53it/s]\n",
      "100%|██████████| 32/32 [00:00<00:00, 107.99it/s]\n"
     ]
    },
    {
     "name": "stdout",
     "output_type": "stream",
     "text": [
      "Epoch 9/10 Train Loss: 0.48 Train Acc: 81.20%  | Valid Loss: 0.69 Valid Acc: 55.90%\n"
     ]
    },
    {
     "name": "stderr",
     "output_type": "stream",
     "text": [
      "100%|██████████| 125/125 [00:01<00:00, 79.10it/s]\n",
      "100%|██████████| 32/32 [00:00<00:00, 107.90it/s]\n"
     ]
    },
    {
     "name": "stdout",
     "output_type": "stream",
     "text": [
      "Epoch 10/10 Train Loss: 0.45 Train Acc: 83.53%  | Valid Loss: 0.69 Valid Acc: 56.70%\n"
     ]
    },
    {
     "data": {
      "image/png": "[encoded data removed]",
      "text/plain": [
       "<Figure size 640x480 with 1 Axes>"
      ]
     },
     "metadata": {},
     "output_type": "display_data"
    }
   ],
   "source": [
    "fig, ax = plt.subplots()\n",
    "\n",
    "model_default = create_default_model(50)\n",
    "model_random = __import__('copy').deepcopy(model_default)\n",
    "model_random.embeddings.weight.requires_grad = False\n",
    "\n",
    "for model, kwargs in zip(\n",
    "  [\n",
    "    model_default,\n",
    "    model_random,\n",
    "    load_model('model_dim-50_radius-3_ratio-5-batch-1200-epoch-10.ckpt'),\n",
    "    load_model('model_dim-50_radius-3_ratio-5-batch-1200-epoch-10.ckpt', freeze=True),\n",
    "  ],\n",
    "  [\n",
    "    dict(color='C0', linestyle='-', label='Without word2vec'),\n",
    "    dict(color='C0', linestyle='--', label='Without word2vec (frozen)'),\n",
    "    dict(color='C1', linestyle='-', label='With word2vec'),\n",
    "    dict(color='C1', linestyle='--', label='With word2vec (frozen)'),\n",
    "  ],\n",
    "):\n",
    "  val_accuracy = train_model(model)\n",
    "  ax.plot(val_accuracy, **kwargs) # type: ignore\n",
    "\n",
    "ax.set_xlabel('Epoch')\n",
    "ax.set_ylabel('Validation accuracy')\n",
    "ax.grid()\n",
    "ax.legend(loc='upper left');"
   ]
  },
  {
   "cell_type": "code",
   "execution_count": 33,
   "metadata": {},
   "outputs": [
    {
     "name": "stderr",
     "output_type": "stream",
     "text": [
      "100%|██████████| 125/125 [00:01<00:00, 124.81it/s]\n",
      "100%|██████████| 32/32 [00:00<00:00, 180.45it/s]\n"
     ]
    },
    {
     "name": "stdout",
     "output_type": "stream",
     "text": [
      "Epoch 1/10 Train Loss: 0.71 Train Acc: 50.58%  | Valid Loss: 0.70 Valid Acc: 51.00%\n"
     ]
    },
    {
     "name": "stderr",
     "output_type": "stream",
     "text": [
      "100%|██████████| 125/125 [00:00<00:00, 132.09it/s]\n",
      "100%|██████████| 32/32 [00:00<00:00, 181.20it/s]\n"
     ]
    },
    {
     "name": "stdout",
     "output_type": "stream",
     "text": [
      "Epoch 2/10 Train Loss: 0.68 Train Acc: 55.50%  | Valid Loss: 0.69 Valid Acc: 51.70%\n"
     ]
    },
    {
     "name": "stderr",
     "output_type": "stream",
     "text": [
      "100%|██████████| 125/125 [00:00<00:00, 129.93it/s]\n",
      "100%|██████████| 32/32 [00:00<00:00, 175.71it/s]\n"
     ]
    },
    {
     "name": "stdout",
     "output_type": "stream",
     "text": [
      "Epoch 3/10 Train Loss: 0.67 Train Acc: 58.73%  | Valid Loss: 0.69 Valid Acc: 51.90%\n"
     ]
    },
    {
     "name": "stderr",
     "output_type": "stream",
     "text": [
      "100%|██████████| 125/125 [00:00<00:00, 132.79it/s]\n",
      "100%|██████████| 32/32 [00:00<00:00, 180.28it/s]\n"
     ]
    },
    {
     "name": "stdout",
     "output_type": "stream",
     "text": [
      "Epoch 4/10 Train Loss: 0.65 Train Acc: 63.12%  | Valid Loss: 0.68 Valid Acc: 55.70%\n"
     ]
    },
    {
     "name": "stderr",
     "output_type": "stream",
     "text": [
      "100%|██████████| 125/125 [00:00<00:00, 130.32it/s]\n",
      "100%|██████████| 32/32 [00:00<00:00, 179.74it/s]\n"
     ]
    },
    {
     "name": "stdout",
     "output_type": "stream",
     "text": [
      "Epoch 5/10 Train Loss: 0.63 Train Acc: 67.30%  | Valid Loss: 0.68 Valid Acc: 58.20%\n"
     ]
    },
    {
     "name": "stderr",
     "output_type": "stream",
     "text": [
      "100%|██████████| 125/125 [00:00<00:00, 136.24it/s]\n",
      "100%|██████████| 32/32 [00:00<00:00, 178.90it/s]\n"
     ]
    },
    {
     "name": "stdout",
     "output_type": "stream",
     "text": [
      "Epoch 6/10 Train Loss: 0.60 Train Acc: 70.28%  | Valid Loss: 0.67 Valid Acc: 58.40%\n"
     ]
    },
    {
     "name": "stderr",
     "output_type": "stream",
     "text": [
      "100%|██████████| 125/125 [00:00<00:00, 129.25it/s]\n",
      "100%|██████████| 32/32 [00:00<00:00, 171.91it/s]\n"
     ]
    },
    {
     "name": "stdout",
     "output_type": "stream",
     "text": [
      "Epoch 7/10 Train Loss: 0.56 Train Acc: 74.70%  | Valid Loss: 0.67 Valid Acc: 58.80%\n"
     ]
    },
    {
     "name": "stderr",
     "output_type": "stream",
     "text": [
      "100%|██████████| 125/125 [00:00<00:00, 131.76it/s]\n",
      "100%|██████████| 32/32 [00:00<00:00, 175.19it/s]\n"
     ]
    },
    {
     "name": "stdout",
     "output_type": "stream",
     "text": [
      "Epoch 8/10 Train Loss: 0.53 Train Acc: 77.00%  | Valid Loss: 0.67 Valid Acc: 58.80%\n"
     ]
    },
    {
     "name": "stderr",
     "output_type": "stream",
     "text": [
      "100%|██████████| 125/125 [00:00<00:00, 129.47it/s]\n",
      "100%|██████████| 32/32 [00:00<00:00, 134.84it/s]\n"
     ]
    },
    {
     "name": "stdout",
     "output_type": "stream",
     "text": [
      "Epoch 9/10 Train Loss: 0.49 Train Acc: 79.90%  | Valid Loss: 0.67 Valid Acc: 58.20%\n"
     ]
    },
    {
     "name": "stderr",
     "output_type": "stream",
     "text": [
      "100%|██████████| 125/125 [00:00<00:00, 131.78it/s]\n",
      "100%|██████████| 32/32 [00:00<00:00, 179.46it/s]\n"
     ]
    },
    {
     "name": "stdout",
     "output_type": "stream",
     "text": [
      "Epoch 10/10 Train Loss: 0.45 Train Acc: 82.72%  | Valid Loss: 0.67 Valid Acc: 58.20%\n"
     ]
    },
    {
     "name": "stderr",
     "output_type": "stream",
     "text": [
      "100%|██████████| 125/125 [00:01<00:00, 103.94it/s]\n",
      "100%|██████████| 32/32 [00:00<00:00, 163.39it/s]\n"
     ]
    },
    {
     "name": "stdout",
     "output_type": "stream",
     "text": [
      "Epoch 1/10 Train Loss: 0.71 Train Acc: 50.98%  | Valid Loss: 0.69 Valid Acc: 55.00%\n"
     ]
    },
    {
     "name": "stderr",
     "output_type": "stream",
     "text": [
      "100%|██████████| 125/125 [00:01<00:00, 115.46it/s]\n",
      "100%|██████████| 32/32 [00:00<00:00, 154.97it/s]\n"
     ]
    },
    {
     "name": "stdout",
     "output_type": "stream",
     "text": [
      "Epoch 2/10 Train Loss: 0.66 Train Acc: 60.40%  | Valid Loss: 0.68 Valid Acc: 61.80%\n"
     ]
    },
    {
     "name": "stderr",
     "output_type": "stream",
     "text": [
      "100%|██████████| 125/125 [00:01<00:00, 114.26it/s]\n",
      "100%|██████████| 32/32 [00:00<00:00, 157.28it/s]\n"
     ]
    },
    {
     "name": "stdout",
     "output_type": "stream",
     "text": [
      "Epoch 3/10 Train Loss: 0.61 Train Acc: 69.33%  | Valid Loss: 0.67 Valid Acc: 57.80%\n"
     ]
    },
    {
     "name": "stderr",
     "output_type": "stream",
     "text": [
      "100%|██████████| 125/125 [00:01<00:00, 114.62it/s]\n",
      "100%|██████████| 32/32 [00:00<00:00, 130.91it/s]\n"
     ]
    },
    {
     "name": "stdout",
     "output_type": "stream",
     "text": [
      "Epoch 4/10 Train Loss: 0.55 Train Acc: 77.10%  | Valid Loss: 0.66 Valid Acc: 57.20%\n"
     ]
    },
    {
     "name": "stderr",
     "output_type": "stream",
     "text": [
      "100%|██████████| 125/125 [00:01<00:00, 108.70it/s]\n",
      "100%|██████████| 32/32 [00:00<00:00, 146.91it/s]\n"
     ]
    },
    {
     "name": "stdout",
     "output_type": "stream",
     "text": [
      "Epoch 5/10 Train Loss: 0.48 Train Acc: 83.10%  | Valid Loss: 0.64 Valid Acc: 61.80%\n"
     ]
    },
    {
     "name": "stderr",
     "output_type": "stream",
     "text": [
      "100%|██████████| 125/125 [00:01<00:00, 108.26it/s]\n",
      "100%|██████████| 32/32 [00:00<00:00, 154.93it/s]\n"
     ]
    },
    {
     "name": "stdout",
     "output_type": "stream",
     "text": [
      "Epoch 6/10 Train Loss: 0.40 Train Acc: 88.08%  | Valid Loss: 0.64 Valid Acc: 60.90%\n"
     ]
    },
    {
     "name": "stderr",
     "output_type": "stream",
     "text": [
      "100%|██████████| 125/125 [00:01<00:00, 111.08it/s]\n",
      "100%|██████████| 32/32 [00:00<00:00, 156.63it/s]\n"
     ]
    },
    {
     "name": "stdout",
     "output_type": "stream",
     "text": [
      "Epoch 7/10 Train Loss: 0.33 Train Acc: 90.88%  | Valid Loss: 0.65 Valid Acc: 60.60%\n"
     ]
    },
    {
     "name": "stderr",
     "output_type": "stream",
     "text": [
      "100%|██████████| 125/125 [00:01<00:00, 101.32it/s]\n",
      "100%|██████████| 32/32 [00:00<00:00, 157.15it/s]\n"
     ]
    },
    {
     "name": "stdout",
     "output_type": "stream",
     "text": [
      "Epoch 8/10 Train Loss: 0.27 Train Acc: 93.33%  | Valid Loss: 0.68 Valid Acc: 58.20%\n"
     ]
    },
    {
     "name": "stderr",
     "output_type": "stream",
     "text": [
      "100%|██████████| 125/125 [00:01<00:00, 102.32it/s]\n",
      "100%|██████████| 32/32 [00:00<00:00, 157.11it/s]\n"
     ]
    },
    {
     "name": "stdout",
     "output_type": "stream",
     "text": [
      "Epoch 9/10 Train Loss: 0.24 Train Acc: 94.05%  | Valid Loss: 0.66 Valid Acc: 60.70%\n"
     ]
    },
    {
     "name": "stderr",
     "output_type": "stream",
     "text": [
      "100%|██████████| 125/125 [00:01<00:00, 111.36it/s]\n",
      "100%|██████████| 32/32 [00:00<00:00, 158.26it/s]"
     ]
    },
    {
     "name": "stdout",
     "output_type": "stream",
     "text": [
      "Epoch 10/10 Train Loss: 0.19 Train Acc: 95.85%  | Valid Loss: 0.64 Valid Acc: 64.80%\n"
     ]
    },
    {
     "name": "stderr",
     "output_type": "stream",
     "text": [
      "\n"
     ]
    },
    {
     "data": {
      "image/png": "[encoded data removed]",
      "text/plain": [
       "<Figure size 640x480 with 1 Axes>"
      ]
     },
     "metadata": {},
     "output_type": "display_data"
    }
   ],
   "source": [
    "fig, ax = plt.subplots()\n",
    "\n",
    "for model, kwargs in zip(\n",
    "  [\n",
    "    load_model('model_dim-50_radius-3_ratio-5-batch-1200-epoch-10.ckpt', freeze=True),\n",
    "    load_model('model_dim-128_radius-3_ratio-5-batch-1200-epoch-10.ckpt', freeze=True),\n",
    "  ],\n",
    "  [\n",
    "    dict(color='C0', linestyle='-', label='Embedding dim 50'),\n",
    "    dict(color='C1', linestyle='-', label='Embedding dim 128'),\n",
    "  ],\n",
    "):\n",
    "  val_accuracy = train_model(model)\n",
    "  ax.plot(val_accuracy, **kwargs) # type: ignore\n",
    "\n",
    "ax.set_xlabel('Epoch')\n",
    "ax.set_ylabel('Validation accuracy')\n",
    "ax.grid()\n",
    "ax.legend();"
   ]
  },
  {
   "cell_type": "code",
   "execution_count": null,
   "metadata": {},
   "outputs": [],
   "source": [
    "# fig, ax = plt.subplots()\n",
    "\n",
    "models = [\n",
    "  load_model('model_dim-50_radius-3_ratio-5-batch-1200-epoch-10.ckpt', freeze=True),\n",
    "  load_model('model_dim-50_radius-3_ratio-10-batch-1200-epoch-10.ckpt', freeze=True),\n",
    "  load_model('model_dim-50_radius-6_ratio-5-batch-1200-epoch-10.ckpt', freeze=True),\n",
    "  load_model('model_dim-50_radius-6_ratio-10-batch-1200-epoch-10.ckpt', freeze=True),\n",
    "]\n",
    "\n",
    "replicate_count = 5\n",
    "results = torch.empty((len(models), replicate_count))\n",
    "\n",
    "for replicate_index in range(replicate_count):\n",
    "  for model_index, model in enumerate(models):\n",
    "    results[model_index, replicate_index] = train_model(model)[-1]\n",
    "\n",
    "# print(tabulate(results, tablefmt='fancy_grid'))\n",
    "\n",
    "# for model, kwargs in zip(\n",
    "#   [\n",
    "#     load_model('model_dim-50_radius-3_ratio-5-batch-1200-epoch-10.ckpt', freeze=True),\n",
    "#     load_model('model_dim-50_radius-3_ratio-10-batch-1200-epoch-10.ckpt', freeze=True),\n",
    "#     load_model('model_dim-50_radius-6_ratio-5-batch-1200-epoch-10.ckpt', freeze=True),\n",
    "#     load_model('model_dim-50_radius-6_ratio-10-batch-1200-epoch-10.ckpt', freeze=True),\n",
    "#   ],\n",
    "#   [\n",
    "#     dict(color='C0', linestyle='-', label='R = 3, K = 5'),\n",
    "#     dict(color='C1', linestyle='-', label='R = 3, K = 10'),\n",
    "#     dict(color='C2', linestyle='-', label='R = 6, K = 5'),\n",
    "#     dict(color='C3', linestyle='-', label='R = 6, K = 10'),\n",
    "#   ],\n",
    "# ):\n",
    "#   val_accuracy = train_model(model)\n",
    "#   ax.plot(val_accuracy, **kwargs) # type: ignore\n",
    "\n",
    "# ax.set_xlabel('Epoch')\n",
    "# ax.set_ylabel('Validation accuracy')\n",
    "# ax.grid()\n",
    "# ax.legend();"
   ]
  },
  {
   "cell_type": "code",
   "execution_count": 41,
   "metadata": {},
   "outputs": [
    {
     "data": {
      "text/plain": [
       "tensor([56.6600, 62.4600, 58.3600, 57.8400])"
      ]
     },
     "execution_count": 41,
     "metadata": {},
     "output_type": "execute_result"
    }
   ],
   "source": [
    "results.mean(dim=1)"
   ]
  },
  {
   "cell_type": "code",
   "execution_count": 35,
   "metadata": {},
   "outputs": [],
   "source": [
    "fig.savefig('comparison2.png')"
   ]
  }
 ],
 "metadata": {
  "kernelspec": {
   "display_name": "env",
   "language": "python",
   "name": "python3"
  },
  "language_info": {
   "codemirror_mode": {
    "name": "ipython",
    "version": 3
   },
   "file_extension": ".py",
   "mimetype": "text/x-python",
   "name": "python",
   "nbconvert_exporter": "python",
   "pygments_lexer": "ipython3",
   "version": "3.12.5"
  }
 },
 "nbformat": 4,
 "nbformat_minor": 2
}

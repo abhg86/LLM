{
 "cells": [
  {
   "cell_type": "markdown",
   "metadata": {},
   "source": [
    "# Classification using Word2Vec\n",
    "\n",
    "## Imports"
   ]
  },
  {
   "cell_type": "code",
   "execution_count": 2,
   "metadata": {},
   "outputs": [
    {
     "name": "stderr",
     "output_type": "stream",
     "text": [
      "/Users/simon/Developer/iasd/env/lib/python3.12/site-packages/tqdm/auto.py:21: TqdmWarning: IProgress not found. Please update jupyter and ipywidgets. See https://ipywidgets.readthedocs.io/en/stable/user_install.html\n",
      "  from .autonotebook import tqdm as notebook_tqdm\n"
     ]
    }
   ],
   "source": [
    "import numpy as np\n",
    "import torch\n",
    "import torch.nn.functional as F\n",
    "import torch.nn as nn\n",
    "import math\n",
    "from torch.utils.data import DataLoader\n",
    "from datasets import load_dataset\n",
    "from tabulate import tabulate\n",
    "\n",
    "from tqdm.notebook import tqdm\n",
    "from transformers import BertTokenizer"
   ]
  },
  {
   "cell_type": "markdown",
   "metadata": {},
   "source": [
    "## Data preparation"
   ]
  },
  {
   "cell_type": "code",
   "execution_count": 3,
   "metadata": {},
   "outputs": [
    {
     "name": "stdout",
     "output_type": "stream",
     "text": [
      "Length of the vocabulary: 30522\n"
     ]
    }
   ],
   "source": [
    "dataset = load_dataset(\"scikit-learn/imdb\", split=\"train\")\n",
    "tokenizer = BertTokenizer.from_pretrained(\"bert-base-uncased\", do_lower_case=True)\n",
    "\n",
    "VOCSIZE = len(tokenizer.vocab)\n",
    "print(\"Length of the vocabulary:\", VOCSIZE)"
   ]
  },
  {
   "cell_type": "code",
   "execution_count": 5,
   "metadata": {},
   "outputs": [
    {
     "name": "stderr",
     "output_type": "stream",
     "text": [
      "Map: 100%|██████████| 5000/5000 [00:10<00:00, 466.64 examples/s]\n"
     ]
    }
   ],
   "source": [
    "def preprocessing_fn(x, tokenizer):\n",
    "    x[\"review_ids\"] = tokenizer(\n",
    "        x[\"review\"],\n",
    "        add_special_tokens=False,\n",
    "        truncation=True,\n",
    "        max_length=256,\n",
    "        padding=False,\n",
    "        return_attention_mask=False,\n",
    "    )[\"input_ids\"]\n",
    "    x[\"label\"] = 0 if x[\"sentiment\"] == \"negative\" else 1\n",
    "    return x\n",
    "\n",
    "n_samples = 5000  # the number of training example\n",
    "\n",
    "# We first shuffle the data !\n",
    "dataset = dataset.shuffle()\n",
    "\n",
    "# Select 5000 samples\n",
    "splitted_dataset = dataset.select(range(n_samples))\n",
    "\n",
    "# Tokenize the dataset\n",
    "splitted_dataset = splitted_dataset.map(\n",
    "    preprocessing_fn, fn_kwargs={\"tokenizer\": tokenizer}\n",
    ")\n",
    "\n",
    "\n",
    "# Remove useless columns\n",
    "splitted_dataset = splitted_dataset.select_columns([\"review_ids\", \"label\"])\n",
    "\n",
    "# Split the train and validation\n",
    "splitted_dataset = splitted_dataset.train_test_split(test_size=0.2)\n",
    "\n",
    "train_set = splitted_dataset[\"train\"]\n",
    "valid_set = splitted_dataset[\"test\"]"
   ]
  },
  {
   "cell_type": "code",
   "execution_count": 8,
   "metadata": {},
   "outputs": [],
   "source": [
    "class DataCollator:\n",
    "    def __init__(self, tokenizer):\n",
    "        self.tokenizer = tokenizer\n",
    "\n",
    "    def __call__(self, batch):\n",
    "        # `batch` is a list of dictionary with keys \"review_ids\" and \"label\".\n",
    "        features = [{\"input_ids\": x[\"review_ids\"]} for x in batch]\n",
    "        features = self.tokenizer.pad(\n",
    "            features, padding=\"max_length\", max_length=256, return_tensors=\"pt\"\n",
    "        )\n",
    "        label = torch.tensor([x[\"label\"] for x in batch])[:, None]\n",
    "        return {\"review_ids\": features[\"input_ids\"], \"label\": label}\n",
    "\n",
    "data_collator = DataCollator(tokenizer)"
   ]
  },
  {
   "cell_type": "code",
   "execution_count": 9,
   "metadata": {},
   "outputs": [],
   "source": [
    "batch_size = 32\n",
    "\n",
    "train_dataloader = DataLoader(\n",
    "    train_set, batch_size=batch_size, collate_fn=data_collator\n",
    ")\n",
    "valid_dataloader = DataLoader(\n",
    "    valid_set, batch_size=batch_size, collate_fn=data_collator\n",
    ")\n",
    "n_valid = len(valid_set)\n",
    "n_train = len(train_set)"
   ]
  },
  {
   "cell_type": "markdown",
   "metadata": {},
   "source": [
    "## Model"
   ]
  },
  {
   "cell_type": "code",
   "execution_count": 25,
   "metadata": {},
   "outputs": [],
   "source": [
    "class Conv1dClassifier(nn.Module):\n",
    "    \"\"\"A text classifier:\n",
    "    - input = minibatch\n",
    "    - output = probability associated to a binary classification task\n",
    "    - vocab_size: the number of words in the vocabulary we want to embed\n",
    "    - embedding_dim: size of the word vectors\n",
    "    \"\"\"\n",
    "\n",
    "    def __init__(self, vocab_size: int, embeddings: nn.Embedding, feature_size: int = 100, kernel_size: int = 3):\n",
    "        super().__init__()\n",
    "        self.feature_size = feature_size\n",
    "        self.embeddings = embeddings\n",
    "        self.embedding_dim = self.embeddings.embedding_dim\n",
    "\n",
    "        self.conv = nn.Conv1d(\n",
    "            self.embedding_dim,\n",
    "            feature_size,\n",
    "            kernel_size,\n",
    "            padding=math.floor(kernel_size / 2),\n",
    "        )\n",
    "\n",
    "        self.pool = nn.AdaptiveMaxPool1d(1)\n",
    "        self.dropout = nn.Dropout(0.3)\n",
    "        self.linear = nn.Linear(feature_size, 1)\n",
    "        self.out_activation = nn.Sigmoid()\n",
    "\n",
    "    def forward(self, input_ids: torch.Tensor):\n",
    "        # In pytorch, convolution expects (B,d,L)\n",
    "        # B: the batch dimension\n",
    "        # d: the embedding dimension\n",
    "        # L: the length of the sequence\n",
    "        hidden_states = self.embeddings(input_ids).permute(0, 2, 1)\n",
    "        hidden_states = F.relu(self.conv(hidden_states))\n",
    "        hidden_states = self.pool(hidden_states)  # --> (B,d,1)\n",
    "        # Before the linear, do something with dims the dimension\n",
    "        # Because Linear works on the final dim\n",
    "        # (B,d,1) -> (B,d)\n",
    "        hidden_states = hidden_states.squeeze(dim=2)\n",
    "        hidden_states = self.dropout(hidden_states)\n",
    "        logits = self.linear(hidden_states)\n",
    "        return self.out_activation(logits)"
   ]
  },
  {
   "cell_type": "code",
   "execution_count": 56,
   "metadata": {},
   "outputs": [
    {
     "name": "stdout",
     "output_type": "stream",
     "text": [
      "tensor([[0.0670, 0.4582],\n",
      "        [0.2049, 0.3479],\n",
      "        [0.4247, 0.2501],\n",
      "        [0.3290, 0.2709]])\n"
     ]
    }
   ],
   "source": [
    "device = torch.device('cuda' if torch.cuda.is_available() else 'cpu')\n",
    "\n",
    "def load_model(path: str):\n",
    "  torch.serialization.add_safe_globals([nn.Embedding, set])\n",
    "  trained_embeddings = torch.load(path, map_location=device, weights_only=True)\n",
    "  trained_embeddings.weight.requires_grad = False\n",
    "\n",
    "  return Conv1dClassifier(\n",
    "    vocab_size=VOCSIZE,\n",
    "    embeddings=trained_embeddings,\n",
    "  )\n",
    "\n",
    "\n",
    "model_default = Conv1dClassifier(\n",
    "  vocab_size=VOCSIZE,\n",
    "  embeddings=nn.Embedding(VOCSIZE, 25),\n",
    ")\n",
    "\n",
    "model_pretrained = load_model('model_dim-25_radius-10_ratio-5-batch-1200-epoch-10.ckpt')\n",
    "\n",
    "\n",
    "# Test on random sentence\n",
    "\n",
    "random_inputs = torch.randint(0, VOCSIZE, (4, 100))\n",
    "\n",
    "with torch.no_grad():\n",
    "  print(torch.stack([\n",
    "    model_default(random_inputs),\n",
    "    model_pretrained(random_inputs),\n",
    "  ]).squeeze().T)"
   ]
  },
  {
   "cell_type": "markdown",
   "metadata": {},
   "source": [
    "## Training"
   ]
  },
  {
   "cell_type": "code",
   "execution_count": 61,
   "metadata": {},
   "outputs": [
    {
     "name": "stderr",
     "output_type": "stream",
     "text": [
      "100%|██████████| 125/125 [00:04<00:00, 29.20it/s]\n",
      "100%|██████████| 32/32 [00:00<00:00, 44.40it/s]\n"
     ]
    },
    {
     "name": "stdout",
     "output_type": "stream",
     "text": [
      "Epoch 1/16 Train Loss: 0.43 Train Acc: 79.70%  | Valid Loss: 0.49 Valid Acc: 76.00%\n"
     ]
    },
    {
     "name": "stderr",
     "output_type": "stream",
     "text": [
      "100%|██████████| 125/125 [00:03<00:00, 33.74it/s]\n",
      "100%|██████████| 32/32 [00:00<00:00, 45.15it/s]\n"
     ]
    },
    {
     "name": "stdout",
     "output_type": "stream",
     "text": [
      "Epoch 2/16 Train Loss: 0.41 Train Acc: 81.17%  | Valid Loss: 0.48 Valid Acc: 76.10%\n"
     ]
    },
    {
     "name": "stderr",
     "output_type": "stream",
     "text": [
      "100%|██████████| 125/125 [00:04<00:00, 25.58it/s]\n",
      "100%|██████████| 32/32 [00:00<00:00, 36.07it/s]\n"
     ]
    },
    {
     "name": "stdout",
     "output_type": "stream",
     "text": [
      "Epoch 3/16 Train Loss: 0.40 Train Acc: 82.85%  | Valid Loss: 0.47 Valid Acc: 76.20%\n"
     ]
    },
    {
     "name": "stderr",
     "output_type": "stream",
     "text": [
      "100%|██████████| 125/125 [00:04<00:00, 29.91it/s]\n",
      "100%|██████████| 32/32 [00:00<00:00, 45.16it/s]\n"
     ]
    },
    {
     "name": "stdout",
     "output_type": "stream",
     "text": [
      "Epoch 4/16 Train Loss: 0.37 Train Acc: 83.30%  | Valid Loss: 0.47 Valid Acc: 76.90%\n"
     ]
    },
    {
     "name": "stderr",
     "output_type": "stream",
     "text": [
      "100%|██████████| 125/125 [00:04<00:00, 30.48it/s]\n",
      "100%|██████████| 32/32 [00:00<00:00, 42.80it/s]\n"
     ]
    },
    {
     "name": "stdout",
     "output_type": "stream",
     "text": [
      "Epoch 5/16 Train Loss: 0.35 Train Acc: 85.35%  | Valid Loss: 0.47 Valid Acc: 76.80%\n"
     ]
    },
    {
     "name": "stderr",
     "output_type": "stream",
     "text": [
      "100%|██████████| 125/125 [00:04<00:00, 29.94it/s]\n",
      "100%|██████████| 32/32 [00:00<00:00, 37.21it/s]\n"
     ]
    },
    {
     "name": "stdout",
     "output_type": "stream",
     "text": [
      "Epoch 6/16 Train Loss: 0.34 Train Acc: 85.33%  | Valid Loss: 0.46 Valid Acc: 77.10%\n"
     ]
    },
    {
     "name": "stderr",
     "output_type": "stream",
     "text": [
      "100%|██████████| 125/125 [00:04<00:00, 29.27it/s]\n",
      "100%|██████████| 32/32 [00:00<00:00, 40.71it/s]\n"
     ]
    },
    {
     "name": "stdout",
     "output_type": "stream",
     "text": [
      "Epoch 7/16 Train Loss: 0.33 Train Acc: 85.88%  | Valid Loss: 0.47 Valid Acc: 77.00%\n"
     ]
    },
    {
     "name": "stderr",
     "output_type": "stream",
     "text": [
      "100%|██████████| 125/125 [00:03<00:00, 33.38it/s]\n",
      "100%|██████████| 32/32 [00:01<00:00, 29.28it/s]\n"
     ]
    },
    {
     "name": "stdout",
     "output_type": "stream",
     "text": [
      "Epoch 8/16 Train Loss: 0.29 Train Acc: 87.62%  | Valid Loss: 0.46 Valid Acc: 77.30%\n"
     ]
    },
    {
     "name": "stderr",
     "output_type": "stream",
     "text": [
      "100%|██████████| 125/125 [00:04<00:00, 25.93it/s]\n",
      "100%|██████████| 32/32 [00:00<00:00, 43.77it/s]\n"
     ]
    },
    {
     "name": "stdout",
     "output_type": "stream",
     "text": [
      "Epoch 9/16 Train Loss: 0.29 Train Acc: 88.58%  | Valid Loss: 0.47 Valid Acc: 76.80%\n"
     ]
    },
    {
     "name": "stderr",
     "output_type": "stream",
     "text": [
      "100%|██████████| 125/125 [00:04<00:00, 29.55it/s]\n",
      "100%|██████████| 32/32 [00:00<00:00, 40.15it/s]\n"
     ]
    },
    {
     "name": "stdout",
     "output_type": "stream",
     "text": [
      "Epoch 10/16 Train Loss: 0.27 Train Acc: 89.30%  | Valid Loss: 0.46 Valid Acc: 76.90%\n"
     ]
    },
    {
     "name": "stderr",
     "output_type": "stream",
     "text": [
      "100%|██████████| 125/125 [00:03<00:00, 32.00it/s]\n",
      "100%|██████████| 32/32 [00:00<00:00, 42.20it/s]\n"
     ]
    },
    {
     "name": "stdout",
     "output_type": "stream",
     "text": [
      "Epoch 11/16 Train Loss: 0.26 Train Acc: 89.50%  | Valid Loss: 0.47 Valid Acc: 76.90%\n"
     ]
    },
    {
     "name": "stderr",
     "output_type": "stream",
     "text": [
      "100%|██████████| 125/125 [00:03<00:00, 33.05it/s]\n",
      "100%|██████████| 32/32 [00:00<00:00, 39.32it/s]\n"
     ]
    },
    {
     "name": "stdout",
     "output_type": "stream",
     "text": [
      "Epoch 12/16 Train Loss: 0.24 Train Acc: 90.45%  | Valid Loss: 0.46 Valid Acc: 77.50%\n"
     ]
    },
    {
     "name": "stderr",
     "output_type": "stream",
     "text": [
      "100%|██████████| 125/125 [00:03<00:00, 32.38it/s]\n",
      "100%|██████████| 32/32 [00:00<00:00, 32.79it/s]\n"
     ]
    },
    {
     "name": "stdout",
     "output_type": "stream",
     "text": [
      "Epoch 13/16 Train Loss: 0.22 Train Acc: 91.55%  | Valid Loss: 0.46 Valid Acc: 77.10%\n"
     ]
    },
    {
     "name": "stderr",
     "output_type": "stream",
     "text": [
      "100%|██████████| 125/125 [00:03<00:00, 32.37it/s]\n",
      "100%|██████████| 32/32 [00:00<00:00, 44.43it/s]\n"
     ]
    },
    {
     "name": "stdout",
     "output_type": "stream",
     "text": [
      "Epoch 14/16 Train Loss: 0.21 Train Acc: 91.28%  | Valid Loss: 0.47 Valid Acc: 77.80%\n"
     ]
    },
    {
     "name": "stderr",
     "output_type": "stream",
     "text": [
      "100%|██████████| 125/125 [00:04<00:00, 31.05it/s]\n",
      "100%|██████████| 32/32 [00:00<00:00, 43.88it/s]\n"
     ]
    },
    {
     "name": "stdout",
     "output_type": "stream",
     "text": [
      "Epoch 15/16 Train Loss: 0.19 Train Acc: 92.80%  | Valid Loss: 0.47 Valid Acc: 77.70%\n"
     ]
    },
    {
     "name": "stderr",
     "output_type": "stream",
     "text": [
      "100%|██████████| 125/125 [00:04<00:00, 25.85it/s]\n",
      "100%|██████████| 32/32 [00:01<00:00, 28.20it/s]\n"
     ]
    },
    {
     "name": "stdout",
     "output_type": "stream",
     "text": [
      "Epoch 16/16 Train Loss: 0.18 Train Acc: 93.10%  | Valid Loss: 0.48 Valid Acc: 77.20%\n"
     ]
    },
    {
     "data": {
      "image/png": "[encoded data removed]",
      "text/plain": [
       "<Figure size 1200x500 with 2 Axes>"
      ]
     },
     "metadata": {},
     "output_type": "display_data"
    }
   ],
   "source": [
    "import matplotlib.pyplot as plt\n",
    "from tqdm import tqdm\n",
    "\n",
    "def train_model(model: nn.Module):\n",
    "  loss_function = nn.BCELoss()\n",
    "  optimizer = torch.optim.Adam(model.parameters(), lr=0.001)\n",
    "  n_epochs = 16\n",
    "  train_losses = []\n",
    "  valid_losses = []\n",
    "  train_accs = []\n",
    "  valid_accs = []\n",
    "\n",
    "  model.to(device)\n",
    "\n",
    "\n",
    "  def compute_accuracy(predictions, labels):\n",
    "      pred = (predictions > 0.5).int()\n",
    "      correct = (labels == pred).sum().item()\n",
    "      return correct\n",
    "\n",
    "\n",
    "  def train_one_epoch(model, dataloader, optimizer, loss_function):\n",
    "      model.train()\n",
    "      total_loss = 0\n",
    "      correct = 0\n",
    "      total_batches = len(dataloader)\n",
    "\n",
    "      for batch in tqdm(dataloader, leave=True):\n",
    "          batch = {k: v.to(device) for k, v in batch.items()}\n",
    "          optimizer.zero_grad()\n",
    "          probs = model(batch[\"review_ids\"])\n",
    "          gold = batch[\"label\"]\n",
    "\n",
    "          correct += compute_accuracy(probs, gold)\n",
    "          loss = loss_function(probs, gold.float())\n",
    "          loss.backward()\n",
    "          optimizer.step()\n",
    "          total_loss += loss.item()\n",
    "\n",
    "      avg_loss = total_loss / total_batches\n",
    "      avg_accuracy = (correct * 100) / n_train  # Calculate accuracy in percentage\n",
    "      return avg_loss, avg_accuracy\n",
    "\n",
    "\n",
    "  def validate_one_epoch(model, dataloader, loss_function):\n",
    "      model.eval()\n",
    "      total_loss = 0\n",
    "      correct = 0\n",
    "      total_batches = len(dataloader)\n",
    "\n",
    "      with torch.no_grad():\n",
    "          for batch in tqdm(dataloader, leave=True):\n",
    "              batch = {k: v.to(device) for k, v in batch.items()}\n",
    "              probs = model(batch[\"review_ids\"])\n",
    "              gold = batch[\"label\"]\n",
    "\n",
    "              correct += compute_accuracy(probs, gold)\n",
    "              loss = loss_function(probs, gold.float())\n",
    "              total_loss += loss.item()\n",
    "\n",
    "      avg_loss = total_loss / total_batches\n",
    "      avg_accuracy = (correct * 100) / n_valid  # Calculate accuracy in percentage\n",
    "      return avg_loss, avg_accuracy\n",
    "\n",
    "\n",
    "  for epoch in range(n_epochs):\n",
    "      train_avg_loss, train_avg_acc = train_one_epoch(\n",
    "          model, train_dataloader, optimizer, loss_function\n",
    "      )\n",
    "      valid_avg_loss, valid_avg_acc = validate_one_epoch(\n",
    "          model, valid_dataloader, loss_function\n",
    "      )\n",
    "\n",
    "      train_losses.append(train_avg_loss)\n",
    "      valid_losses.append(valid_avg_loss)\n",
    "      train_accs.append(train_avg_acc)\n",
    "      valid_accs.append(valid_avg_acc)\n",
    "\n",
    "      print(\n",
    "          f\"Epoch {epoch+1}/{n_epochs}\",\n",
    "          f\"Train Loss: {train_avg_loss:.2f}\",\n",
    "          f\"Train Acc: {train_avg_acc:.2f}%\",\n",
    "          f\" | Valid Loss: {valid_avg_loss:.2f}\",\n",
    "          f\"Valid Acc: {valid_avg_acc:.2f}%\",\n",
    "      )\n",
    "\n",
    "  # Plotting Loss and Accuracy Curves\n",
    "  epochs_range = range(1, n_epochs + 1)\n",
    "\n",
    "  plt.figure(figsize=(12, 5))\n",
    "\n",
    "  # Loss plot\n",
    "  plt.subplot(1, 2, 1)\n",
    "  plt.plot(epochs_range, train_losses, label=\"Train Loss\")\n",
    "  plt.plot(epochs_range, valid_losses, label=\"Validation Loss\")\n",
    "  plt.title(\"Loss Curves\")\n",
    "  plt.xlabel(\"Epochs\")\n",
    "  plt.ylabel(\"Loss\")\n",
    "  plt.legend()\n",
    "\n",
    "  # Accuracy plot\n",
    "  plt.subplot(1, 2, 2)\n",
    "  plt.plot(epochs_range, train_accs, label=\"Train Accuracy\")\n",
    "  plt.plot(epochs_range, valid_accs, label=\"Validation Accuracy\")\n",
    "  plt.title(\"Accuracy Curves\")\n",
    "  plt.xlabel(\"Epochs\")\n",
    "  plt.ylabel(\"Accuracy (%)\")\n",
    "  plt.legend()\n",
    "\n",
    "  plt.tight_layout()\n",
    "  plt.show()\n",
    "\n",
    "train_model(model_default)"
   ]
  },
  {
   "cell_type": "code",
   "execution_count": 62,
   "metadata": {},
   "outputs": [
    {
     "name": "stderr",
     "output_type": "stream",
     "text": [
      "100%|██████████| 125/125 [00:03<00:00, 35.39it/s]\n",
      "100%|██████████| 32/32 [00:00<00:00, 43.86it/s]\n"
     ]
    },
    {
     "name": "stdout",
     "output_type": "stream",
     "text": [
      "Epoch 1/16 Train Loss: 0.57 Train Acc: 72.45%  | Valid Loss: 0.67 Valid Acc: 57.80%\n"
     ]
    },
    {
     "name": "stderr",
     "output_type": "stream",
     "text": [
      "100%|██████████| 125/125 [00:03<00:00, 35.46it/s]\n",
      "100%|██████████| 32/32 [00:01<00:00, 31.23it/s]\n"
     ]
    },
    {
     "name": "stdout",
     "output_type": "stream",
     "text": [
      "Epoch 2/16 Train Loss: 0.56 Train Acc: 72.83%  | Valid Loss: 0.68 Valid Acc: 56.90%\n"
     ]
    },
    {
     "name": "stderr",
     "output_type": "stream",
     "text": [
      "100%|██████████| 125/125 [00:03<00:00, 32.88it/s]\n",
      "100%|██████████| 32/32 [00:00<00:00, 42.21it/s]\n"
     ]
    },
    {
     "name": "stdout",
     "output_type": "stream",
     "text": [
      "Epoch 3/16 Train Loss: 0.54 Train Acc: 75.10%  | Valid Loss: 0.68 Valid Acc: 58.10%\n"
     ]
    },
    {
     "name": "stderr",
     "output_type": "stream",
     "text": [
      "100%|██████████| 125/125 [00:03<00:00, 34.13it/s]\n",
      "100%|██████████| 32/32 [00:00<00:00, 44.57it/s]\n"
     ]
    },
    {
     "name": "stdout",
     "output_type": "stream",
     "text": [
      "Epoch 4/16 Train Loss: 0.52 Train Acc: 74.95%  | Valid Loss: 0.68 Valid Acc: 57.20%\n"
     ]
    },
    {
     "name": "stderr",
     "output_type": "stream",
     "text": [
      "100%|██████████| 125/125 [00:03<00:00, 35.89it/s]\n",
      "100%|██████████| 32/32 [00:00<00:00, 41.53it/s]\n"
     ]
    },
    {
     "name": "stdout",
     "output_type": "stream",
     "text": [
      "Epoch 5/16 Train Loss: 0.51 Train Acc: 76.70%  | Valid Loss: 0.68 Valid Acc: 58.80%\n"
     ]
    },
    {
     "name": "stderr",
     "output_type": "stream",
     "text": [
      "100%|██████████| 125/125 [00:03<00:00, 36.21it/s]\n",
      "100%|██████████| 32/32 [00:00<00:00, 42.60it/s]\n"
     ]
    },
    {
     "name": "stdout",
     "output_type": "stream",
     "text": [
      "Epoch 6/16 Train Loss: 0.49 Train Acc: 78.42%  | Valid Loss: 0.68 Valid Acc: 57.10%\n"
     ]
    },
    {
     "name": "stderr",
     "output_type": "stream",
     "text": [
      "100%|██████████| 125/125 [00:04<00:00, 30.56it/s]\n",
      "100%|██████████| 32/32 [00:00<00:00, 38.48it/s]\n"
     ]
    },
    {
     "name": "stdout",
     "output_type": "stream",
     "text": [
      "Epoch 7/16 Train Loss: 0.49 Train Acc: 78.00%  | Valid Loss: 0.68 Valid Acc: 58.40%\n"
     ]
    },
    {
     "name": "stderr",
     "output_type": "stream",
     "text": [
      "100%|██████████| 125/125 [00:03<00:00, 33.91it/s]\n",
      "100%|██████████| 32/32 [00:00<00:00, 38.96it/s]\n"
     ]
    },
    {
     "name": "stdout",
     "output_type": "stream",
     "text": [
      "Epoch 8/16 Train Loss: 0.47 Train Acc: 78.22%  | Valid Loss: 0.69 Valid Acc: 59.90%\n"
     ]
    },
    {
     "name": "stderr",
     "output_type": "stream",
     "text": [
      "100%|██████████| 125/125 [00:03<00:00, 36.32it/s]\n",
      "100%|██████████| 32/32 [00:00<00:00, 40.93it/s]\n"
     ]
    },
    {
     "name": "stdout",
     "output_type": "stream",
     "text": [
      "Epoch 9/16 Train Loss: 0.47 Train Acc: 79.47%  | Valid Loss: 0.69 Valid Acc: 58.60%\n"
     ]
    },
    {
     "name": "stderr",
     "output_type": "stream",
     "text": [
      "100%|██████████| 125/125 [00:03<00:00, 35.38it/s]\n",
      "100%|██████████| 32/32 [00:00<00:00, 40.33it/s]\n"
     ]
    },
    {
     "name": "stdout",
     "output_type": "stream",
     "text": [
      "Epoch 10/16 Train Loss: 0.45 Train Acc: 80.47%  | Valid Loss: 0.69 Valid Acc: 58.60%\n"
     ]
    },
    {
     "name": "stderr",
     "output_type": "stream",
     "text": [
      "100%|██████████| 125/125 [00:03<00:00, 34.34it/s]\n",
      "100%|██████████| 32/32 [00:00<00:00, 38.19it/s]\n"
     ]
    },
    {
     "name": "stdout",
     "output_type": "stream",
     "text": [
      "Epoch 11/16 Train Loss: 0.45 Train Acc: 80.75%  | Valid Loss: 0.69 Valid Acc: 58.20%\n"
     ]
    },
    {
     "name": "stderr",
     "output_type": "stream",
     "text": [
      "100%|██████████| 125/125 [00:03<00:00, 34.01it/s]\n",
      "100%|██████████| 32/32 [00:00<00:00, 41.58it/s]\n"
     ]
    },
    {
     "name": "stdout",
     "output_type": "stream",
     "text": [
      "Epoch 12/16 Train Loss: 0.44 Train Acc: 80.50%  | Valid Loss: 0.70 Valid Acc: 58.10%\n"
     ]
    },
    {
     "name": "stderr",
     "output_type": "stream",
     "text": [
      "100%|██████████| 125/125 [00:03<00:00, 34.67it/s]\n",
      "100%|██████████| 32/32 [00:00<00:00, 39.27it/s]\n"
     ]
    },
    {
     "name": "stdout",
     "output_type": "stream",
     "text": [
      "Epoch 13/16 Train Loss: 0.43 Train Acc: 81.92%  | Valid Loss: 0.70 Valid Acc: 58.50%\n"
     ]
    },
    {
     "name": "stderr",
     "output_type": "stream",
     "text": [
      "100%|██████████| 125/125 [00:03<00:00, 33.03it/s]\n",
      "100%|██████████| 32/32 [00:00<00:00, 40.22it/s]\n"
     ]
    },
    {
     "name": "stdout",
     "output_type": "stream",
     "text": [
      "Epoch 14/16 Train Loss: 0.41 Train Acc: 82.65%  | Valid Loss: 0.70 Valid Acc: 58.80%\n"
     ]
    },
    {
     "name": "stderr",
     "output_type": "stream",
     "text": [
      "100%|██████████| 125/125 [00:03<00:00, 35.01it/s]\n",
      "100%|██████████| 32/32 [00:00<00:00, 42.86it/s]\n"
     ]
    },
    {
     "name": "stdout",
     "output_type": "stream",
     "text": [
      "Epoch 15/16 Train Loss: 0.41 Train Acc: 83.15%  | Valid Loss: 0.70 Valid Acc: 58.10%\n"
     ]
    },
    {
     "name": "stderr",
     "output_type": "stream",
     "text": [
      "100%|██████████| 125/125 [00:03<00:00, 35.53it/s]\n",
      "100%|██████████| 32/32 [00:00<00:00, 41.98it/s]\n"
     ]
    },
    {
     "name": "stdout",
     "output_type": "stream",
     "text": [
      "Epoch 16/16 Train Loss: 0.40 Train Acc: 83.97%  | Valid Loss: 0.71 Valid Acc: 58.50%\n"
     ]
    },
    {
     "data": {
      "image/png": "[encoded data removed]",
      "text/plain": [
       "<Figure size 1200x500 with 2 Axes>"
      ]
     },
     "metadata": {},
     "output_type": "display_data"
    }
   ],
   "source": [
    "train_model(model_pretrained)"
   ]
  }
 ],
 "metadata": {
  "kernelspec": {
   "display_name": "env",
   "language": "python",
   "name": "python3"
  },
  "language_info": {
   "codemirror_mode": {
    "name": "ipython",
    "version": 3
   },
   "file_extension": ".py",
   "mimetype": "text/x-python",
   "name": "python",
   "nbconvert_exporter": "python",
   "pygments_lexer": "ipython3",
   "version": "3.12.3"
  }
 },
 "nbformat": 4,
 "nbformat_minor": 2
}

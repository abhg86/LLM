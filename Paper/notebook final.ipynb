{
 "cells": [
  {
   "cell_type": "markdown",
   "metadata": {},
   "source": [
    "# Implementation of \"Word embeddings are steers for language models\""
   ]
  },
  {
   "cell_type": "markdown",
   "metadata": {},
   "source": [
    "## Setup"
   ]
  },
  {
   "cell_type": "code",
   "execution_count": 13,
   "metadata": {},
   "outputs": [],
   "source": [
    "import datasets\n",
    "import numpy as np\n",
    "import torch\n",
    "from matplotlib import pyplot as plt\n",
    "from torch import nn, optim\n",
    "from torch.utils.data import DataLoader\n",
    "from tqdm import tqdm\n",
    "from transformers import pipeline"
   ]
  },
  {
   "cell_type": "code",
   "execution_count": 2,
   "metadata": {},
   "outputs": [],
   "source": [
    "generator = pipeline('text-generation', model='EleutherAI/pythia-160m-deduped')\n",
    "\n",
    "model = generator.model\n",
    "tokenizer = generator.tokenizer\n",
    "\n",
    "model_original_lm_head = model.embed_out"
   ]
  },
  {
   "cell_type": "code",
   "execution_count": null,
   "metadata": {},
   "outputs": [],
   "source": [
    "class Steer(nn.Module):\n",
    "  def __init__(self, lm_head: nn.Module, *, epsilon: float = 1e-3):\n",
    "    super().__init__()\n",
    "\n",
    "    self.epsilon = epsilon\n",
    "\n",
    "    self.proj1 = nn.Linear(768, 1000, bias=False)\n",
    "    self.proj2 = nn.Linear(1000, 768, bias=False)\n",
    "    self.lm_head = lm_head\n",
    "\n",
    "    with torch.no_grad():\n",
    "      self.proj1.weight.normal_(std=1e-3)\n",
    "      self.proj2.weight.normal_(std=1e-3)\n",
    "\n",
    "  def set_steer_values(self, steer_values: torch.Tensor):\n",
    "    self.steer_values = steer_values\n",
    "\n",
    "  def forward(self, x: torch.Tensor):\n",
    "    # x: (batch, seq, embedding)\n",
    "    # self.steer_values: (seq)\n",
    "\n",
    "    return self.lm_head(x + self.epsilon * self.proj2(self.proj1(x) * self.steer_values[:, None, None]))\n",
    "\n",
    "for param in model.parameters():\n",
    "  param.requires_grad = False\n",
    "\n",
    "steer = Steer(model_original_lm_head)\n",
    "model.embed_out = steer\n"
   ]
  },
  {
   "cell_type": "markdown",
   "metadata": {},
   "source": [
    "## Training data loading"
   ]
  },
  {
   "cell_type": "code",
   "execution_count": 8,
   "metadata": {},
   "outputs": [
    {
     "name": "stderr",
     "output_type": "stream",
     "text": [
      "Repo card metadata block was not found. Setting CardData to empty.\n"
     ]
    }
   ],
   "source": [
    "sentiment_items = list(datasets.load_dataset(\"SetFit/sst5\")['train'])\n",
    "sentiment_scores = torch.tensor([item['label'] for item in sentiment_items]) * 0.5 - 1.0 # -> [-1.0, 1.0]\n",
    "sentiment_texts = [item['text'] for item in sentiment_items]\n",
    "\n",
    "class SentimentDataset(torch.utils.data.Dataset):\n",
    "  def __init__(self, texts, scores):\n",
    "    self.texts = texts\n",
    "    self.scores = scores\n",
    "\n",
    "  def __len__(self):\n",
    "    return len(self.texts)\n",
    "\n",
    "  def __getitem__(self, index):\n",
    "    return self.texts[index], self.scores[index]\n",
    "\n",
    "sentiment_dataset = SentimentDataset(sentiment_texts, sentiment_scores)\n"
   ]
  },
  {
   "cell_type": "markdown",
   "metadata": {},
   "source": [
    "## Training"
   ]
  },
  {
   "cell_type": "code",
   "execution_count": null,
   "metadata": {},
   "outputs": [
    {
     "name": "stderr",
     "output_type": "stream",
     "text": [
      "100%|██████████| 134/134 [09:37<00:00,  4.31s/it]\n"
     ]
    }
   ],
   "source": [
    "loader = DataLoader(sentiment_dataset, batch_size=64, shuffle=True)\n",
    "tokenizer.pad_token = tokenizer.eos_token\n",
    "\n",
    "optimizer = optim.Adam(model.parameters(), lr=1e-3)\n",
    "\n",
    "current_loss = 0.0\n",
    "\n",
    "for _ in range(10):\n",
    "  for batch_index, (batch_texts, batch_scores) in enumerate(tqdm(loader)):\n",
    "    optimizer.zero_grad()\n",
    "\n",
    "    batch_tokenized = tokenizer(batch_texts, padding=True, return_tensors='pt')\n",
    "    steer.set_steer_values(batch_scores)\n",
    "\n",
    "    output = model(\n",
    "      input_ids=batch_tokenized['input_ids'],\n",
    "      attention_mask=batch_tokenized['attention_mask'],\n",
    "      labels=batch_tokenized['input_ids'],\n",
    "    )\n",
    "\n",
    "    output.loss.backward()\n",
    "    optimizer.step()\n",
    "\n",
    "    batch_loss = output.loss.item() / len(batch_texts)\n",
    "    current_loss += batch_loss"
   ]
  },
  {
   "cell_type": "code",
   "execution_count": null,
   "metadata": {},
   "outputs": [
    {
     "data": {
      "text/plain": [
       "['My opinion on Paris is one who thinks Paris has its place in our lives and is a place to make us feel good about our success. His opinion',\n",
       " 'My opinion on Paris is so wrong I think that you were wrong. He can still tell the truth, he can even talk to the politicians who have',\n",
       " 'My opinion on Paris is not only in\\nthe right direction, but in the wrong direction. But\\nin the right direction. We are heading across',\n",
       " 'My opinion on Paris is that the new European economy will be characterized by a more diverse economy than other states of the world, which has been in trouble',\n",
       " 'My opinion on Paris is a little\\nyeah\\nas it is. It is also a long way away from Paris\\nif any of you have']"
      ]
     },
     "execution_count": 47,
     "metadata": {},
     "output_type": "execute_result"
    }
   ],
   "source": [
    "steer.set_steer_values(torch.tensor([0.0]))\n",
    "[generation[0]['generated_text'] for generation in generator([\"My opinion on Paris is\"] * 5, max_length=30, do_sample=True, pad_token_id=tokenizer.eos_token_id)]"
   ]
  },
  {
   "cell_type": "markdown",
   "metadata": {},
   "source": [
    "## Testing data loading"
   ]
  },
  {
   "cell_type": "code",
   "execution_count": 9,
   "metadata": {},
   "outputs": [
    {
     "name": "stdout",
     "output_type": "stream",
     "text": [
      "[0.9998656511306763, 0.0008870700839906931]\n"
     ]
    }
   ],
   "source": [
    "sentiment_pipeline = pipeline(\"sentiment-analysis\", model='distilbert/distilbert-base-uncased-finetuned-sst-2-english', top_k=None)\n",
    "\n",
    "def get_sentiment(texts: list[str]):\n",
    "  results = sentiment_pipeline(texts)\n",
    "  return [item['score'] for result in results for item in result if item['label'] == 'POSITIVE']\n",
    "\n",
    "print(get_sentiment([\"I love you\", \"I hate you\"]))"
   ]
  },
  {
   "cell_type": "code",
   "execution_count": null,
   "metadata": {},
   "outputs": [],
   "source": [
    "# Checking that the training data is correctly classified\n",
    "sentiment_values = get_sentiment(sentiment_texts)"
   ]
  },
  {
   "cell_type": "code",
   "execution_count": 12,
   "metadata": {},
   "outputs": [
    {
     "data": {
      "image/png": "[encoded data removed]",
      "text/plain": [
       "<Figure size 640x480 with 1 Axes>"
      ]
     },
     "metadata": {},
     "output_type": "display_data"
    }
   ],
   "source": [
    "fig, ax = plt.subplots()\n",
    "\n",
    "x = [np.array(sentiment_values)[sentiment_scores.numpy() == score] for score in [-1.0, -0.5, 0.0, 0.5, 1.0]]\n",
    "ax.violinplot(x);"
   ]
  },
  {
   "cell_type": "markdown",
   "metadata": {},
   "source": [
    "## Test"
   ]
  },
  {
   "cell_type": "code",
   "execution_count": null,
   "metadata": {},
   "outputs": [
    {
     "name": "stderr",
     "output_type": "stream",
     "text": [
      "100%|██████████| 10/10 [00:34<00:00,  3.45s/it]\n",
      "100%|██████████| 10/10 [00:34<00:00,  3.44s/it]\n",
      "100%|██████████| 10/10 [00:34<00:00,  3.44s/it]\n",
      "100%|██████████| 10/10 [00:34<00:00,  3.43s/it]\n",
      "100%|██████████| 10/10 [00:34<00:00,  3.43s/it]\n"
     ]
    }
   ],
   "source": [
    "repeat_count = 10\n",
    "steer_values = torch.tensor([-1.0, -0.5, 0.0, 0.5, 1.0])\n",
    "\n",
    "cities = ['Paris', 'London', 'New York', 'Tokyo', 'Berlin', 'Rome', 'Moscow', 'Beijing', 'Sydney', 'Cairo']\n",
    "result = torch.zeros((len(steer_values), len(cities), repeat_count)) * torch.nan\n",
    "\n",
    "for steer_value_index, steer_value in enumerate(steer_values):\n",
    "  steer.set_steer_values(torch.tensor([steer_value]))\n",
    "\n",
    "  for city_index, city in enumerate(tqdm(cities)):\n",
    "    generated_texts = [generation[0]['generated_text'] for generation in generator([f'My opinion of {city} is'] * repeat_count, max_length=30, do_sample=True, pad_token_id=tokenizer.eos_token_id)]\n",
    "    result[steer_value_index, city_index, :] = torch.tensor(get_sentiment(generated_texts))\n"
   ]
  },
  {
   "cell_type": "code",
   "execution_count": null,
   "metadata": {},
   "outputs": [
    {
     "data": {
      "text/plain": [
       "Text(0, 0.5, 'Positivity')"
      ]
     },
     "execution_count": 195,
     "metadata": {},
     "output_type": "execute_result"
    },
    {
     "data": {
      "image/png": "[encoded data removed]",
      "text/plain": [
       "<Figure size 640x480 with 1 Axes>"
      ]
     },
     "metadata": {},
     "output_type": "display_data"
    }
   ],
   "source": [
    "fig, ax = plt.subplots()\n",
    "\n",
    "ax.violinplot(result.numpy().reshape(len(steer_values), -1).T, steer_values.numpy(), showmeans=True)\n",
    "ax.set_xlabel('Steer value')\n",
    "ax.set_ylabel('Positivity')"
   ]
  }
 ],
 "metadata": {
  "kernelspec": {
   "display_name": ".venv",
   "language": "python",
   "name": "python3"
  },
  "language_info": {
   "codemirror_mode": {
    "name": "ipython",
    "version": 3
   },
   "file_extension": ".py",
   "mimetype": "text/x-python",
   "name": "python",
   "nbconvert_exporter": "python",
   "pygments_lexer": "ipython3",
   "version": "3.12.5"
  }
 },
 "nbformat": 4,
 "nbformat_minor": 2
}

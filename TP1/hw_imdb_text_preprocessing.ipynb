{
 "cells": [
  {
   "cell_type": "code",
   "execution_count": 11,
   "metadata": {},
   "outputs": [],
   "source": [
    "#pip install googledrivedownloader"
   ]
  },
  {
   "cell_type": "code",
   "execution_count": 20,
   "metadata": {
    "id": "s-8ltYHfbs5B"
   },
   "outputs": [],
   "source": [
    "import pandas as pd\n",
    "from google_drive_downloader import GoogleDriveDownloader as gdd\n",
    "from pathlib import Path\n",
    "from typing import List, Dict\n",
    "from tqdm import tqdm\n",
    "import numpy as np\n",
    "import matplotlib.pyplot as plt\n",
    "import random\n",
    "import string"
   ]
  },
  {
   "cell_type": "markdown",
   "metadata": {
    "id": "laDowDK-m6Ag"
   },
   "source": [
    "# HW Instructions\n",
    "\n",
    "## 🚧 Cells\n",
    "All the cells identified with a 🚧 should be completed, either by a code or an written answer.\n",
    "You can add as many cells as you want, but in general cells are already in place.\n",
    "\n",
    "\n",
    "🚧 **TODO** 🚧\n",
    "\n",
    "*Requires to complete a code (can be completed with optional text cells if you find it relevant).*\n",
    "\n",
    "or\n",
    "\n",
    "🚧 **Question** 🚧\n",
    "\n",
    "*Requires a written answer (can be completed with optional code cells if you find it relevant).*\n",
    "\n",
    "## 🔴 Test cells\n",
    "Cells identified with 🔴 should be left untouched and shouldn't return any error.\n",
    "\n",
    "## Presentation\n",
    "The overall presentation of the notebook will account in the grading process.\n",
    "Some advice:\n",
    "- Give title to your figures.\n",
    "- Put legends on the figures.\n",
    "- Comment the figures if they are not self-explanatory.\n",
    "- Add comment in the code if not self-explanatory.\n",
    "- Review your notebook before submitting.\n",
    "- Feel free to add any additional illustration if you find it will bring something.\n",
    "- Remain as concise as possible when answering written answer, emphasize the important points.\n",
    "\n",
    "**We cannot debug every notebooks. The notebook should run entirely from the start to the end without any error. If one cell returns an error during the execution, only the cells before the error will be graded.**\n",
    "\n"
   ]
  },
  {
   "cell_type": "markdown",
   "metadata": {
    "id": "PaBJpPWfW45L"
   },
   "source": [
    "# HW Introduction\n",
    "\n",
    "## Hands on with NLP preprocessing\n",
    "\n",
    "The goal of this first homework is to introduce the preprocessing steps in NLP. This step is necessary, very valuable but often not emphasized enough (because it is boring). \n",
    "\n",
    "## Plan\n",
    "\n",
    "1. Load the data\n",
    "2. Analyze and clean the text data\n",
    "3. Format the texts for Deep Learning models and pytorch (i.e. tokenize, etc).\n",
    "\n",
    "## Notations\n",
    "\n",
    "Throughout the HW, a text will be called either **document** or **text**.\n",
    "\n",
    "\n",
    "# I - Data loading"
   ]
  },
  {
   "cell_type": "code",
   "execution_count": 3,
   "metadata": {
    "id": "Eri6thqeX_MC"
   },
   "outputs": [],
   "source": [
    "def download_imdb(output_path: str, force_download: bool = False):\n",
    "    \"\"\"Save the data to `output_path`.\"\"\"\n",
    "    output_path = Path(output_path)\n",
    "    if (not output_path.is_file()) or force_download:\n",
    "        gdd.download_file_from_google_drive(\n",
    "            file_id=\"1zfM5E6HvKIe7f3rEt1V2gBpw5QOSSKQz\",\n",
    "            dest_path=output_path,\n",
    "        )\n",
    "    return"
   ]
  },
  {
   "cell_type": "code",
   "execution_count": 4,
   "metadata": {
    "id": "BJ9S1a1jW45M"
   },
   "outputs": [
    {
     "name": "stdout",
     "output_type": "stream",
     "text": [
      "Downloading 1zfM5E6HvKIe7f3rEt1V2gBpw5QOSSKQz into data/imdb_reviews.csv... Done.\n"
     ]
    }
   ],
   "source": [
    "DATA_PATH = \"data/imdb_reviews.csv\"\n",
    "download_imdb(output_path=DATA_PATH, force_download=False)"
   ]
  },
  {
   "cell_type": "markdown",
   "metadata": {
    "id": "NGT4vDXmZDTT"
   },
   "source": [
    "🚧 **TODO** 🚧\n",
    "\n",
    "Read the file to a Pandas dataframe (the file is stored as a csv). Make sure the \"review\" field is of dtype `string` and label of dtype `int`.\n",
    "\n",
    "Hint: https://pandas.pydata.org/docs/user_guide/text.html (you can specify the `dtype` argument of pandas constructor).\n"
   ]
  },
  {
   "cell_type": "code",
   "execution_count": 14,
   "metadata": {
    "id": "gbQw5TGPha20"
   },
   "outputs": [],
   "source": [
    "df_imdb = pd.read_csv(DATA_PATH) # TODO"
   ]
  },
  {
   "cell_type": "code",
   "execution_count": 15,
   "metadata": {
    "id": "CAv44K5tpMHF"
   },
   "outputs": [],
   "source": [
    "text_column = df_imdb[\"review\"].astype(\"string\")\n",
    "label_column = df_imdb[\"label\"].astype(int)"
   ]
  },
  {
   "cell_type": "markdown",
   "metadata": {
    "id": "hqaE3bBDpPVK"
   },
   "source": [
    "🔴 **TEST**"
   ]
  },
  {
   "cell_type": "code",
   "execution_count": 16,
   "metadata": {
    "id": "-gMHYuJHcQB5"
   },
   "outputs": [],
   "source": [
    "assert text_column.dtype == \"string\"\n",
    "assert label_column.dtype == int"
   ]
  },
  {
   "cell_type": "markdown",
   "metadata": {
    "id": "EMTjOSWEbM6Q"
   },
   "source": [
    "🚧 **TODO** 🚧\n",
    "\n",
    "Print some values of the dataframe.\n",
    "- Print 3 samples of text.\n",
    "- Print their associated labels.\n",
    "- Print some statistics of the dataset.\n",
    "\n"
   ]
  },
  {
   "cell_type": "code",
   "execution_count": 17,
   "metadata": {
    "id": "-aQ0d6IIgRO_"
   },
   "outputs": [
    {
     "name": "stdout",
     "output_type": "stream",
     "text": [
      "==== 3 first texts ====\n",
      "Once again Mr. Costner has dragged out a movie for far longer than necessary. Aside from the terrific sea rescue sequences, of which there are very few I just did not care about any of the characters. Most of us have ghosts in the closet, and Costner's character are realized early on, and then forgotten until much later, by which time I did not care. The character we should really care about is a very cocky, overconfident Ashton Kutcher. The problem is he comes off as kid who thinks he's better than anyone else around him and shows no signs of a cluttered closet. His only obstacle appears to be winning over Costner. Finally when we are well past the half way point of this stinker, Costner tells us all about Kutcher's ghosts. We are told why Kutcher is driven to be the best with no prior inkling or foreshadowing. No magic here, it was all I could do to keep from turning it off an hour in.\n",
      "This is an example of why the majority of action films are the same. Generic and boring, there's really nothing worth watching here. A complete waste of the then barely-tapped talents of Ice-T and Ice Cube, who've each proven many times over that they are capable of acting, and acting well. Don't bother with this one, go see New Jack City, Ricochet or watch New York Undercover for Ice-T, or Boyz n the Hood, Higher Learning or Friday for Ice Cube and see the real deal. Ice-T's horribly cliched dialogue alone makes this film grate at the teeth, and I'm still wondering what the heck Bill Paxton was doing in this film? And why the heck does he always play the exact same character? From Aliens onward, every film I've seen with Bill Paxton has him playing the exact same irritating character, and at least in Aliens his character died, which made it somewhat gratifying...<br /><br />Overall, this is second-rate action trash. There are countless better films to see, and if you really want to see this one, watch Judgement Night, which is practically a carbon copy but has better acting and a better script. The only thing that made this at all worth watching was a decent hand on the camera - the cinematography was almost refreshing, which comes close to making up for the horrible film itself - but not quite. 4/10.\n",
      "First of all I hate those moronic rappers, who could'nt act if they had a gun pressed against their foreheads. All they do is curse and shoot each other and acting like clichÃ©'e version of gangsters.<br /><br />The movie doesn't take more than five minutes to explain what is going on before we're already at the warehouse There is not a single sympathetic character in this movie, except for the homeless guy, who is also the only one with half a brain.<br /><br />Bill Paxton and William Sadler are both hill billies and Sadlers character is just as much a villain as the gangsters. I did'nt like him right from the start.<br /><br />The movie is filled with pointless violence and Walter Hills specialty: people falling through windows with glass flying everywhere. There is pretty much no plot and it is a big problem when you root for no-one. Everybody dies, except from Paxton and the homeless guy and everybody get what they deserve.<br /><br />The only two black people that can act is the homeless guy and the junkie but they're actors by profession, not annoying ugly brain dead rappers.<br /><br />Stay away from this crap and watch 48 hours 1 and 2 instead. At lest they have characters you care about, a sense of humor and nothing but real actors in the cast.\n",
      "\n",
      "==== Associated labels of the 3 first texts ====\n",
      "0\n",
      "0\n",
      "0\n",
      "\n",
      "=== Dataset statistics ===\n",
      "Number of texts\n",
      "62155\n",
      "\n",
      "Average text length (in characters)\n",
      "1374.0382431019227\n",
      "\n",
      "% of positive texts\n",
      "49.66615718767597\n"
     ]
    }
   ],
   "source": [
    "print(\"==== 3 first texts ====\")\n",
    "# TODO\n",
    "for i in range(3):\n",
    "    print(text_column[i])\n",
    "\n",
    "print(\"\\n==== Associated labels of the 3 first texts ====\")\n",
    "# TODO\n",
    "for i in range(3):\n",
    "    print(label_column[i])\n",
    "\n",
    "print(\"\\n=== Dataset statistics ===\")\n",
    "print(\"Number of texts\")\n",
    "# TODO\n",
    "print(len(text_column))\n",
    "\n",
    "print(\"\\nAverage text length (in characters)\")\n",
    "# TODO\n",
    "print(text_column.apply(len).mean())\n",
    "\n",
    "print(\"\\n% of positive texts\")\n",
    "# TODO\n",
    "print(label_column.mean()*100)"
   ]
  },
  {
   "cell_type": "markdown",
   "metadata": {
    "id": "ON1bQK5jhz4E"
   },
   "source": [
    "## II - Clean and format the data.\n",
    "For this first TP, we want to focus on very simple tasks.\n",
    "Therefore, we want to avoid as much as possible rare and uncommon words that will be considered as outliers.\n",
    "\n",
    "We will try to figure out what kind of cleaning we can perform, by having a look at the data.\n",
    "\n",
    "The plan for this part will be:\n",
    "1. Split the strings as a list of words.\n",
    "2. Find the outliers in the corpus.\n",
    "3. Propose some methods to clean them."
   ]
  },
  {
   "cell_type": "markdown",
   "metadata": {
    "id": "5XLRgi5giy_g"
   },
   "source": [
    "### 1. Tokenization\n",
    "First, we will split our texts into words.\n",
    "Splitting a string into a list of smaller substrings is called **tokenization**, and the substrings are called **tokens**.\n",
    "\n",
    "The simplest way to tokenize a text is to split it by words, according to whitespaces.\n",
    "\n",
    "Then, each word encountered in the training set is stored and uniquely identified through an id.\n",
    "\n"
   ]
  },
  {
   "cell_type": "markdown",
   "metadata": {
    "id": "H-HLOTivIfSP"
   },
   "source": [
    "🚧 **Question** 🚧\n",
    "\n",
    "By doing so, we put a huge emphasis on words within documents.\n",
    "\n",
    "a) Intuitively, why is it relevant? For instance compare to splitting by character.\n",
    "\n",
    "b) Cite some methods discussed during the course that rely on word-based representations of documents.\n",
    "\n",
    "**Answer**\n",
    "\n",
    "a) A word carries a semantic value (although it can be ambiguous) unlike a character which contains very little information of the meaning of the document.\n",
    "\n",
    "b) The _bag of words_ model and word embeddings are two methods that rely on word-based representations of documents."
   ]
  },
  {
   "cell_type": "markdown",
   "metadata": {
    "id": "jYwJDXAUIc7C"
   },
   "source": [
    "🚧 **TODO** 🚧\n",
    "\n",
    "Implement a tokenizer based on whitespace splitting. For now, the tokenizer should only be able to store each unique word found in the dataset."
   ]
  },
  {
   "cell_type": "code",
   "execution_count": 24,
   "metadata": {
    "id": "791KTHn9W45N"
   },
   "outputs": [],
   "source": [
    "from typing import NewType\n",
    "\n",
    "\n",
    "# Ensures we don't mix up token ids with regular integers.\n",
    "TokenId = NewType('TokenId', int)\n",
    "\n",
    "class WhiteSpaceTokenizer:\n",
    "    def __init__(self):\n",
    "        # The vocabulary will store the mapping between text tokens and their id.\n",
    "        self.vocab = dict[str, TokenId]()\n",
    "        self.id_to_token = dict[TokenId, str]()\n",
    "\n",
    "        # We will keep track of the number of times a word appears in the corpus.\n",
    "        self.frequencies = dict[TokenId, int]()\n",
    "\n",
    "    def split_text(self, text: str) -> list[str]:\n",
    "        \"\"\"Converts the text to a list of tokens (substrings).\"\"\"\n",
    "\n",
    "        return text.split()\n",
    "\n",
    "    def fit(self, corpus: list[str]):\n",
    "        \"\"\"Fits the tokenizer to a list of texts to construct its vocabulary.\"\"\"\n",
    "\n",
    "        current_id = 0\n",
    "\n",
    "        for text in tqdm(corpus):\n",
    "            # Split into substrings.\n",
    "            list_tokens = self.split_text(text)\n",
    "\n",
    "            for token in list_tokens:\n",
    "                # Add the token to the vocabulary\n",
    "                token_id = self.vocab.get(token)\n",
    "\n",
    "                if token_id is None:\n",
    "                    token_id = TokenId(current_id)\n",
    "                    self.vocab[token] = token_id\n",
    "                    self.id_to_token[token_id] = token\n",
    "                    self.frequencies[token_id] = 0\n",
    "                    current_id += 1\n",
    "\n",
    "                self.frequencies[token_id] += 1\n",
    "\n",
    "        # Total number of words in vocab.\n",
    "        self.num_words = len(self.vocab)\n",
    "        print(f\"Built a vocabulary of {self.num_words} words.\")"
   ]
  },
  {
   "cell_type": "markdown",
   "metadata": {
    "id": "geTlVAEGpa4n"
   },
   "source": [
    "🔴 **TEST**"
   ]
  },
  {
   "cell_type": "code",
   "execution_count": 26,
   "metadata": {
    "id": "joZuRcZ7nc3N"
   },
   "outputs": [
    {
     "name": "stderr",
     "output_type": "stream",
     "text": [
      "100%|██████████| 2/2 [00:00<00:00, 16844.59it/s]"
     ]
    },
    {
     "name": "stdout",
     "output_type": "stream",
     "text": [
      "Built a vocabulary of 3 words.\n"
     ]
    },
    {
     "name": "stderr",
     "output_type": "stream",
     "text": [
      "\n"
     ]
    }
   ],
   "source": [
    "toy_corpus = [\"a cat\", \"a dog\"]\n",
    "tokenizer = WhiteSpaceTokenizer()\n",
    "tokenizer.fit(toy_corpus)\n",
    "assert tokenizer.vocab == {\"a\": 0, \"cat\": 1, \"dog\": 2}\n",
    "assert tokenizer.frequencies == {0: 2, 1: 1, 2: 1}\n",
    "assert tokenizer.num_words == 3"
   ]
  },
  {
   "cell_type": "markdown",
   "metadata": {
    "id": "fct0L_9EoGWT"
   },
   "source": [
    "🚧 **TODO** 🚧\n",
    "\n",
    "Fits the tokenizer on the imdb reviews."
   ]
  },
  {
   "cell_type": "code",
   "execution_count": 32,
   "metadata": {
    "id": "59qiHgwmmcfB"
   },
   "outputs": [
    {
     "name": "stderr",
     "output_type": "stream",
     "text": [
      "100%|██████████| 62155/62155 [00:03<00:00, 16596.91it/s]"
     ]
    },
    {
     "name": "stdout",
     "output_type": "stream",
     "text": [
      "Built a vocabulary of 474682 words.\n"
     ]
    },
    {
     "name": "stderr",
     "output_type": "stream",
     "text": [
      "\n"
     ]
    }
   ],
   "source": [
    "tokenizer = WhiteSpaceTokenizer()\n",
    "tokenizer.fit(list(df_imdb['review']))"
   ]
  },
  {
   "cell_type": "markdown",
   "metadata": {
    "id": "LHBeN-x-2fhB"
   },
   "source": [
    "### 2. Noise analysis"
   ]
  },
  {
   "cell_type": "markdown",
   "metadata": {
    "id": "3H-GBNNVobV8"
   },
   "source": [
    "🚧 **TODO** 🚧\n",
    "\n",
    "Print 50 random tokens."
   ]
  },
  {
   "cell_type": "code",
   "execution_count": 40,
   "metadata": {
    "id": "AI2knE7em9HT"
   },
   "outputs": [
    {
     "name": "stdout",
     "output_type": "stream",
     "text": [
      "response?\n",
      "\"yeah\n",
      "arch-enemy,a\n",
      "Holes,\n",
      "Harrison\"\n",
      "sax\n",
      "(Enchanted)\n",
      "vacuum;\n",
      "AUG\n",
      "mouse).\n",
      "Lisa(Cynthia\n",
      "now.....until\n",
      "researching,\n",
      "crew......(not\n",
      "E.R\n",
      "vikings,\n",
      "horror/vampire\n",
      "Caption\n",
      "Tract\",\n",
      "\\\"spill\n",
      "Unheard\n",
      "coats\n",
      "whip--the\n",
      "bloodying\n",
      "York,\n",
      "----\n",
      "faith--and\n",
      "stationhouse\n",
      "9.5/10.\n",
      "\\\"OK,\\\"\n",
      "participation\".\n",
      "Duval).\n",
      "HanzÃ´\n",
      "halfbreed,\n",
      "hollywoods\n",
      "/>\\\"Wow,\n",
      "Gen-Y\n",
      "cares.<br\n",
      "bomb\",\n",
      "Indecent\n",
      "Budget?\n",
      "ALERT---\n",
      "crises,\n",
      "yarn!\n",
      "hong\n",
      "Mirrormask\n",
      "Cage).\n",
      "Punk/\n",
      "\\\"shot\n",
      "lacklustre,\n"
     ]
    }
   ],
   "source": [
    "for token in random.sample(list(tokenizer.vocab.keys()), 50):\n",
    "  print(token)"
   ]
  },
  {
   "cell_type": "markdown",
   "metadata": {
    "id": "buQNo3ZsrXq4"
   },
   "source": [
    "🚧 **QUESTION** 🚧\n",
    "\n",
    "What do you think of the tokens? Do they look like simple \"words\" as expected?\n",
    "\n",
    "Analyze the noise and explain why we got such weird vocabulary.\n",
    "\n",
    "**Answer**\n",
    "\n",
    "Tokens include punctuation, numbers, and special characters. They are also in different cases. This is because we have only considered spaces as token separators and have not normalized tokens."
   ]
  },
  {
   "cell_type": "markdown",
   "metadata": {
    "id": "bbt1bQ2SsK4l"
   },
   "source": [
    "### 3. Cleaning\n",
    "\n",
    "🚧 **TODO** 🚧\n",
    "\n",
    "You are going to implement some of the classical cleaning methods.\n",
    "1. Lower case the string.\n",
    "2. String normalization, i.e., replace accentuated characters by standard version (\"â -> a\") (hint: https://stackoverflow.com/a/14121678).\n",
    "3. Remove non alpha-numeric characters (use Python regex package `re`).\n",
    "4. Replace numeric characters by the token `'<NUM>'` (use the package `re`).\n",
    "5. Remove double whitespaces (use the package `re`).\n"
   ]
  },
  {
   "cell_type": "code",
   "execution_count": 41,
   "metadata": {
    "id": "orSU21XPfBhL"
   },
   "outputs": [],
   "source": [
    "import unicodedata\n",
    "import re"
   ]
  },
  {
   "cell_type": "code",
   "execution_count": 88,
   "metadata": {
    "id": "Y5EqoG1dsWMv"
   },
   "outputs": [],
   "source": [
    "def preprocess_text(text: str) -> str:\n",
    "    # lower case\n",
    "    text = text.lower()\n",
    "\n",
    "    # string normalization.\n",
    "    text = unicodedata.normalize('NFD', text).encode('ascii', 'ignore').decode()\n",
    "\n",
    "    # remove non alpha numeric characters.\n",
    "    text = re.sub(r'[^a-z0-9\\s]', ' ', text)\n",
    "\n",
    "    # replace numbers by the <NUM> token.\n",
    "    text = re.sub(r'\\d+', ' <NUM> ', text)\n",
    "\n",
    "    # remove double whitespaces.\n",
    "    text = re.sub(r'\\s+', ' ', text).strip()\n",
    "\n",
    "    return text"
   ]
  },
  {
   "cell_type": "markdown",
   "metadata": {
    "id": "yiAbpQrbptvH"
   },
   "source": [
    "🔴 **TEST**"
   ]
  },
  {
   "cell_type": "code",
   "execution_count": 89,
   "metadata": {
    "id": "cfmJ1GDzy7-f"
   },
   "outputs": [],
   "source": [
    "noisy_text = \"Ï   lîved  in    San-Françisco...  ! for 12 years.\"\n",
    "clean_text = \"i lived in san francisco for <NUM> years\"\n",
    "assert preprocess_text(noisy_text) == clean_text"
   ]
  },
  {
   "cell_type": "markdown",
   "metadata": {
    "id": "LkO-jZPY0mDy"
   },
   "source": [
    "🚧 **TODO** 🚧\n",
    "\n",
    "Add column `clean_review` to the dataframe, with the clean text.\n",
    "\n",
    "Store the `clean_review` column to the variable `clean_column`."
   ]
  },
  {
   "cell_type": "code",
   "execution_count": 90,
   "metadata": {
    "id": "tMO7SaQO0uSr"
   },
   "outputs": [],
   "source": [
    "# TODO\n",
    "df_imdb[\"clean_review\"] = df_imdb['review'].apply(preprocess_text)\n",
    "\n",
    "clean_column = df_imdb['clean_review']"
   ]
  },
  {
   "cell_type": "markdown",
   "metadata": {
    "id": "M0Dl9i7X1JWb"
   },
   "source": [
    "🚧 **TODO** 🚧\n",
    "\n",
    "Run the tokenizer on the clean text and print 50 random tokens."
   ]
  },
  {
   "cell_type": "code",
   "execution_count": 91,
   "metadata": {
    "id": "koSGantW1SL1"
   },
   "outputs": [
    {
     "name": "stderr",
     "output_type": "stream",
     "text": [
      "100%|██████████| 62155/62155 [00:02<00:00, 26268.18it/s]"
     ]
    },
    {
     "name": "stdout",
     "output_type": "stream",
     "text": [
      "Built a vocabulary of 101516 words.\n"
     ]
    },
    {
     "name": "stderr",
     "output_type": "stream",
     "text": [
      "\n"
     ]
    }
   ],
   "source": [
    "# fit the tokenizer\n",
    "tokenizer = WhiteSpaceTokenizer()\n",
    "tokenizer.fit(list(df_imdb['clean_review']))"
   ]
  },
  {
   "cell_type": "code",
   "execution_count": 100,
   "metadata": {
    "id": "DJlHz9Sw1c56"
   },
   "outputs": [
    {
     "name": "stdout",
     "output_type": "stream",
     "text": [
      "rangering\n",
      "cholesterol\n",
      "nuchtern\n",
      "waggon\n",
      "conditioning\n",
      "nez\n",
      "nondas\n",
      "friday\n",
      "virgine\n",
      "hippy\n",
      "dweeby\n",
      "pernell\n",
      "tastefulness\n",
      "saloma\n",
      "gutenberg\n",
      "progress\n",
      "scob\n",
      "bracker\n",
      "unutilzed\n",
      "lapping\n",
      "rook\n",
      "undertakes\n",
      "complainers\n",
      "dorina\n",
      "barad\n",
      "ryba\n",
      "practicalities\n",
      "vardon\n",
      "sloooowwww\n",
      "mahabharata\n",
      "ize\n",
      "beauteous\n",
      "corrine\n",
      "suranne\n",
      "naffly\n",
      "voids\n",
      "honk\n",
      "cloris\n",
      "miamis\n",
      "strafes\n",
      "endingis\n",
      "punt\n",
      "carley\n",
      "deeming\n",
      "villarona\n",
      "philadelphia\n",
      "pffffft\n",
      "modernization\n",
      "montesinos\n",
      "efficacy\n"
     ]
    }
   ],
   "source": [
    "# print tokens\n",
    "for token in random.sample(list(tokenizer.vocab.keys()), 50):\n",
    "  print(token)"
   ]
  },
  {
   "cell_type": "markdown",
   "metadata": {
    "id": "Sq8CzSBw1vsI"
   },
   "source": [
    "🚧 **Question** 🚧\n",
    "\n",
    "What do you think of the new tokens? Are they better? What common noise still remain? (Feel free to print more tokens to get a better intuition).\n",
    "\n",
    "Suggest some methods to improve again the tokenization (at least 2), based on either these results or on something you think we could have done better.\n",
    "\n",
    "**Answer**\n",
    "\n",
    "The new tokens are much better and look more like regular words. Some names are unnecessarily split between two words (e.g. `Sante Fe`), and some words are split by punctuation (e.g. `don't`). We could improve the tokenization by removing small words (e.g. `s` which is frequent as `<word>'s`) and by detecting combinations of words and letters that must be kept together (e.g. `don't`)."
   ]
  },
  {
   "cell_type": "markdown",
   "metadata": {
    "id": "ohqx368M2ZiG"
   },
   "source": [
    "### Tokens analysis\n",
    "\n",
    "\n",
    "🚧 **TODO** 🚧\n",
    "\n",
    "Show the frequencies repartition.\n",
    "This should be a histogram, with 100 bins, with the frequencies on the x axis and the number of words associated to the frequencies on the y axis (see https://matplotlib.org/stable/api/_as_gen/matplotlib.pyplot.hist.html).\n",
    "\n",
    "Use logarithm scale for y."
   ]
  },
  {
   "cell_type": "code",
   "execution_count": 120,
   "metadata": {
    "id": "r8N76FrE3fyt"
   },
   "outputs": [
    {
     "data": {
      "image/png": "[encoded data removed]",
      "text/plain": [
       "<Figure size 640x480 with 1 Axes>"
      ]
     },
     "metadata": {},
     "output_type": "display_data"
    }
   ],
   "source": [
    "fig, ax = plt.subplots()\n",
    "\n",
    "ax.hist(list(tokenizer.frequencies.values()), bins=100)\n",
    "ax.set_xlabel('Word frequency')\n",
    "ax.set_ylabel('Number of words')\n",
    "ax.set_yscale('log')"
   ]
  },
  {
   "cell_type": "markdown",
   "metadata": {
    "id": "qX-WtALB8mam"
   },
   "source": [
    "🚧 **Question** 🚧\n",
    "\n",
    "What do you think of the repartition?\n",
    "\n",
    "**Answer**\n",
    "\n",
    "Frequencies are very skewed, with most words appearing only once and a few words appearing very frequently.\n",
    "\n"
   ]
  },
  {
   "cell_type": "markdown",
   "metadata": {
    "id": "zXXq8T04fRYM"
   },
   "source": [
    "🚧 **TODO** 🚧\n",
    "\n",
    "Plot the frequencies repartition. Find the best corresponding Zipf law (seen during the course) and plot it on the same figure."
   ]
  },
  {
   "cell_type": "code",
   "execution_count": 177,
   "metadata": {
    "id": "PJeJUqQe_jfo"
   },
   "outputs": [
    {
     "data": {
      "image/png": "[encoded data removed]",
      "text/plain": [
       "<Figure size 640x480 with 1 Axes>"
      ]
     },
     "metadata": {},
     "output_type": "display_data"
    }
   ],
   "source": [
    "fig, ax = plt.subplots()\n",
    "\n",
    "ax.plot(sorted(list(tokenizer.frequencies.values()), reverse=True), label='Observations')\n",
    "\n",
    "x = np.arange(1, len(tokenizer.frequencies))\n",
    "ax.plot(x, 1.5e6 / x, label='Zipf law')\n",
    "\n",
    "ax.set_xlabel('Word rank')\n",
    "ax.set_ylabel('Word frequency')\n",
    "ax.set_xscale('log')\n",
    "ax.set_yscale('log')\n",
    "ax.grid()\n",
    "ax.legend();"
   ]
  },
  {
   "cell_type": "markdown",
   "metadata": {
    "id": "FB--kpAVE7p_"
   },
   "source": [
    "## III - DataLoading\n",
    "\n",
    "This final part aims at making your dataset compatible with PyTorch.\n",
    "\n",
    "### Text representation\n",
    "\n",
    "Since we plan to work with PyTorch, we need to work with `tensors`. But since a text is only composed of strings, we need to find some numerical representations for the text.\n",
    "\n",
    "The most basic method is to represent a text by list of tokens. We already used a simple WhiteSpace tokenizer earlier to analyze our texts before cleaning. Now we will use it to *represent* the texts.\n",
    "\n",
    "🚧 **TODO** 🚧\n",
    "\n",
    "Modify the code of the `WhiteSpaceTokenizer` so that it could encode a text into a list of token ids and do the reverse (i.e. decode a list of token ids to a text)."
   ]
  },
  {
   "cell_type": "code",
   "execution_count": 129,
   "metadata": {
    "id": "-8a20vOKJ5Wz"
   },
   "outputs": [],
   "source": [
    "class WhiteSpaceTokenizer:\n",
    "    def __init__(self):\n",
    "        # The vocabulary will store the mapping between text tokens and their id.\n",
    "        self.vocab = dict[str, TokenId]()\n",
    "        self.id_to_token = dict[TokenId, str]()\n",
    "\n",
    "        # We will keep track of the number of times a word appears in the corpus.\n",
    "        self.frequencies = dict[TokenId, int]()\n",
    "\n",
    "    def split_text(self, text: str) -> list[str]:\n",
    "        \"\"\"Converts the text to a list of tokens (substrings).\"\"\"\n",
    "\n",
    "        return text.split()\n",
    "\n",
    "    def encode(self, text: str) -> List[int]:\n",
    "        \"\"\"Take a text as input and return its associated tokenization, as a list of ids.\"\"\"\n",
    "\n",
    "        return [self.vocab[token] for token in self.split_text(text)]\n",
    "\n",
    "    def decode(self, ids: list[int]) -> str:\n",
    "        return ' '.join([self.id_to_token[TokenId(token_id)] for token_id in ids])\n",
    "\n",
    "    def fit(self, corpus: list[str]):\n",
    "        \"\"\"Fits the tokenizer to a list of texts to construct its vocabulary.\"\"\"\n",
    "\n",
    "        current_id = 0\n",
    "\n",
    "        for text in tqdm(corpus):\n",
    "            # Split into substrings.\n",
    "            list_tokens = self.split_text(text)\n",
    "\n",
    "            for token in list_tokens:\n",
    "                # Add the token to the vocabulary\n",
    "                token_id = self.vocab.get(token)\n",
    "\n",
    "                if token_id is None:\n",
    "                    token_id = TokenId(current_id)\n",
    "                    self.vocab[token] = token_id\n",
    "                    self.id_to_token[token_id] = token\n",
    "                    self.frequencies[token_id] = 0\n",
    "                    current_id += 1\n",
    "\n",
    "                self.frequencies[token_id] += 1\n",
    "\n",
    "        # Total number of words in vocab.\n",
    "        self.num_words = len(self.vocab)\n",
    "        print(f\"Built a vocabulary of {self.num_words} words.\")"
   ]
  },
  {
   "cell_type": "markdown",
   "metadata": {
    "id": "EawK5ctWqjOQ"
   },
   "source": [
    "🔴 **TEST**"
   ]
  },
  {
   "cell_type": "code",
   "execution_count": 130,
   "metadata": {
    "id": "l1slN9MEKWjC"
   },
   "outputs": [
    {
     "name": "stderr",
     "output_type": "stream",
     "text": [
      "100%|██████████| 2/2 [00:00<00:00, 11169.92it/s]"
     ]
    },
    {
     "name": "stdout",
     "output_type": "stream",
     "text": [
      "Built a vocabulary of 9 words.\n"
     ]
    },
    {
     "name": "stderr",
     "output_type": "stream",
     "text": [
      "\n"
     ]
    }
   ],
   "source": [
    "tokenizer = WhiteSpaceTokenizer()\n",
    "toy_dataset = [\"the cat is in the kitchen\", \"i have a dog\"]\n",
    "tokenizer.fit(toy_dataset)\n",
    "text = \"i have a kitchen\"\n",
    "assert tokenizer.encode(text) == [5, 6, 7, 4]\n",
    "assert tokenizer.decode([0, 1, 2, 7, 8]) == \"the cat is a dog\""
   ]
  },
  {
   "cell_type": "markdown",
   "metadata": {
    "id": "imYmiv-PMiH4"
   },
   "source": [
    "🚧 **TODO** 🚧 Now fit it on your dataset."
   ]
  },
  {
   "cell_type": "code",
   "execution_count": 131,
   "metadata": {
    "id": "5-agmjJdMkHg"
   },
   "outputs": [
    {
     "name": "stderr",
     "output_type": "stream",
     "text": [
      "100%|██████████| 62155/62155 [00:02<00:00, 25874.74it/s]"
     ]
    },
    {
     "name": "stdout",
     "output_type": "stream",
     "text": [
      "Built a vocabulary of 101516 words.\n"
     ]
    },
    {
     "name": "stderr",
     "output_type": "stream",
     "text": [
      "\n"
     ]
    }
   ],
   "source": [
    "tokenizer = WhiteSpaceTokenizer()\n",
    "tokenizer.fit(list(df_imdb['clean_review']))"
   ]
  },
  {
   "cell_type": "markdown",
   "metadata": {
    "id": "ZHO2xKpiL1oI"
   },
   "source": [
    "🚧 **Question** 🚧\n",
    "Look at the following code:"
   ]
  },
  {
   "cell_type": "code",
   "execution_count": 132,
   "metadata": {
    "id": "l3zS9noAL0DO"
   },
   "outputs": [
    {
     "ename": "KeyError",
     "evalue": "'câstle'",
     "output_type": "error",
     "traceback": [
      "\u001b[0;31m---------------------------------------------------------------------------\u001b[0m",
      "\u001b[0;31mKeyError\u001b[0m                                  Traceback (most recent call last)",
      "Cell \u001b[0;32mIn[132], line 1\u001b[0m\n\u001b[0;32m----> 1\u001b[0m \u001b[43mtokenizer\u001b[49m\u001b[38;5;241;43m.\u001b[39;49m\u001b[43mencode\u001b[49m\u001b[43m(\u001b[49m\u001b[38;5;124;43m\"\u001b[39;49m\u001b[38;5;124;43mthe king is in the câstle\u001b[39;49m\u001b[38;5;124;43m\"\u001b[39;49m\u001b[43m)\u001b[49m\n",
      "Cell \u001b[0;32mIn[129], line 18\u001b[0m, in \u001b[0;36mWhiteSpaceTokenizer.encode\u001b[0;34m(self, text)\u001b[0m\n\u001b[1;32m     15\u001b[0m \u001b[38;5;28;01mdef\u001b[39;00m \u001b[38;5;21mencode\u001b[39m(\u001b[38;5;28mself\u001b[39m, text: \u001b[38;5;28mstr\u001b[39m) \u001b[38;5;241m-\u001b[39m\u001b[38;5;241m>\u001b[39m List[\u001b[38;5;28mint\u001b[39m]:\n\u001b[1;32m     16\u001b[0m \u001b[38;5;250m    \u001b[39m\u001b[38;5;124;03m\"\"\"Take a text as input and return its associated tokenization, as a list of ids.\"\"\"\u001b[39;00m\n\u001b[0;32m---> 18\u001b[0m     \u001b[38;5;28;01mreturn\u001b[39;00m [\u001b[38;5;28;43mself\u001b[39;49m\u001b[38;5;241;43m.\u001b[39;49m\u001b[43mvocab\u001b[49m\u001b[43m[\u001b[49m\u001b[43mtoken\u001b[49m\u001b[43m]\u001b[49m \u001b[38;5;28;01mfor\u001b[39;00m token \u001b[38;5;129;01min\u001b[39;00m \u001b[38;5;28mself\u001b[39m\u001b[38;5;241m.\u001b[39msplit_text(text)]\n",
      "\u001b[0;31mKeyError\u001b[0m: 'câstle'"
     ]
    }
   ],
   "source": [
    "tokenizer.encode(\"the king is in the câstle\")"
   ]
  },
  {
   "cell_type": "markdown",
   "metadata": {
    "id": "Reu2H7UXM9J_"
   },
   "source": [
    "a) Does it raise an exception? Explain what is the problem with the above situation.\n",
    "\n",
    "b) In which real life scenario could such a situation appear?\n",
    "\n",
    "**Answer**\n",
    "\n",
    "a) It raises an exception because the word `câstle` is unknown, only `castle` is and be have not preprocessed the input to `tokenizer.encode()`.\n",
    "\n",
    "b) This situation could appear when we have a new word in the test set that was not in the training set.\n"
   ]
  },
  {
   "cell_type": "markdown",
   "metadata": {
    "id": "XbJtCxPKOFYe"
   },
   "source": [
    "🚧 **TODO** 🚧\n",
    "\n",
    "Propose a simple modification of the tokenizer code such that it doesn't raise an exception anymore. It should handle the presence of any unknown token.\n",
    "\n",
    "The following code should't raise any exception."
   ]
  },
  {
   "cell_type": "markdown",
   "metadata": {},
   "source": [
    "We can add a special token `<UNK>` to the tokenizer that will be used to replace any unknown token."
   ]
  },
  {
   "cell_type": "code",
   "execution_count": 141,
   "metadata": {},
   "outputs": [
    {
     "name": "stderr",
     "output_type": "stream",
     "text": [
      "100%|██████████| 62155/62155 [00:02<00:00, 22059.83it/s]"
     ]
    },
    {
     "name": "stdout",
     "output_type": "stream",
     "text": [
      "Built a vocabulary of 101517 words.\n"
     ]
    },
    {
     "name": "stderr",
     "output_type": "stream",
     "text": [
      "\n"
     ]
    }
   ],
   "source": [
    "class WhiteSpaceTokenizer:\n",
    "    def __init__(self):\n",
    "        self.unknown_token_id = TokenId(0)\n",
    "\n",
    "        # The vocabulary will store the mapping between text tokens and their id.\n",
    "        self.vocab = { '<UNK>': self.unknown_token_id }\n",
    "        self.id_to_token = { self.unknown_token_id: '<UNK>' }\n",
    "\n",
    "        # We will keep track of the number of times a word appears in the corpus.\n",
    "        self.frequencies = { self.unknown_token_id: 0 }\n",
    "\n",
    "    def split_text(self, text: str) -> list[str]:\n",
    "        \"\"\"Converts the text to a list of tokens (substrings).\"\"\"\n",
    "\n",
    "        return text.split()\n",
    "\n",
    "    def encode(self, text: str) -> List[int]:\n",
    "        \"\"\"Take a text as input and return its associated tokenization, as a list of ids.\"\"\"\n",
    "\n",
    "        return [self.vocab.get(token, self.unknown_token_id) for token in self.split_text(text)]\n",
    "\n",
    "    def decode(self, ids: list[int]) -> str:\n",
    "        return ' '.join([self.id_to_token[TokenId(token_id)] for token_id in ids])\n",
    "\n",
    "    def fit(self, corpus: list[str]):\n",
    "        \"\"\"Fits the tokenizer to a list of texts to construct its vocabulary.\"\"\"\n",
    "\n",
    "        current_id = len(self.vocab)\n",
    "\n",
    "        for text in tqdm(corpus):\n",
    "            # Split into substrings.\n",
    "            list_tokens = self.split_text(text)\n",
    "\n",
    "            for token in list_tokens:\n",
    "                # Add the token to the vocabulary\n",
    "                token_id = self.vocab.get(token)\n",
    "\n",
    "                if token_id is None:\n",
    "                    token_id = TokenId(current_id)\n",
    "                    self.vocab[token] = token_id\n",
    "                    self.id_to_token[token_id] = token\n",
    "                    self.frequencies[token_id] = 0\n",
    "                    current_id += 1\n",
    "\n",
    "                self.frequencies[token_id] += 1\n",
    "\n",
    "        # Total number of words in vocab.\n",
    "        self.num_words = len(self.vocab)\n",
    "        print(f\"Built a vocabulary of {self.num_words} words.\")\n",
    "\n",
    "tokenizer = WhiteSpaceTokenizer()\n",
    "tokenizer.fit(list(df_imdb['clean_review']))"
   ]
  },
  {
   "cell_type": "markdown",
   "metadata": {
    "id": "-sxrH8mFqs6I"
   },
   "source": [
    "🔴 **TEST**"
   ]
  },
  {
   "cell_type": "code",
   "execution_count": 143,
   "metadata": {
    "id": "EJVfIsLqLQ4M"
   },
   "outputs": [],
   "source": [
    "allowed_characters = (string.ascii_uppercase + string.digits).replace(\" \", \"\")\n",
    "for _ in range(1000):\n",
    "    word_that_do_not_exist = \"\".join(random.choices(allowed_characters, k=100))\n",
    "    encoding = tokenizer.encode(f\"the king is in the {word_that_do_not_exist}\")\n",
    "    assert tokenizer.decode(encoding) == \"the king is in the <UNK>\""
   ]
  },
  {
   "cell_type": "markdown",
   "metadata": {
    "id": "DZ_O5jT_f0Mr"
   },
   "source": [
    "### Dataset for PyTorch\n",
    "We will be working wtth PyTorch most of the time.\n",
    "A good practice is to always iterate through a `torch.utils.data.DataLoader`, coupled with `torch.utils.data.Dataset`.\n",
    "\n",
    "🚧 **TODO** 🚧\n",
    "\n",
    "We will construct our custom `Dataset` class, that should be fully compatible with the PyTorch API. According to the [documentation](https://pytorch.org/tutorials/beginner/basics/data_tutorial.html#creating-a-custom-dataset-for-your-files), such a dataset should implement at least three methods, `__init__`, `__len__`, `__getitem__`. Complete the following code such that the dataset yields a list of texts.\n",
    "\n",
    "Requirements:\n",
    "1. The dataset class should read the data from the csv_file stored in `DATA_PATH`.\n",
    "2. The dataset should output the raw text, without any cleaning."
   ]
  },
  {
   "cell_type": "code",
   "execution_count": 148,
   "metadata": {
    "id": "Gqn2FgOthdcF"
   },
   "outputs": [],
   "source": [
    "from torch.utils.data import Dataset\n",
    "\n",
    "\n",
    "class IMDBDataset(Dataset):\n",
    "    def __init__(self, file_path: str):\n",
    "        self.df = pd.read_csv(file_path)\n",
    "\n",
    "    def __len__(self):\n",
    "        return len(self.df)\n",
    "\n",
    "    def __getitem__(self, idx: int):\n",
    "        return self.df['review'][idx], self.df['label'][idx]"
   ]
  },
  {
   "cell_type": "markdown",
   "metadata": {
    "id": "T2kJbUUxtPi8"
   },
   "source": [
    "🔴 **TEST**"
   ]
  },
  {
   "cell_type": "code",
   "execution_count": 149,
   "metadata": {
    "id": "68tkYxHKiFzA"
   },
   "outputs": [],
   "source": [
    "imdb_dataset = IMDBDataset(file_path=DATA_PATH)\n",
    "text, label = imdb_dataset[0]\n",
    "assert text == text_column[0]\n",
    "assert label == label_column[0]"
   ]
  },
  {
   "cell_type": "markdown",
   "metadata": {
    "id": "1EaTm6k7QZHL"
   },
   "source": [
    "### DataLoader for PyTorch\n",
    "\n",
    "Now that the dataset is ready, we should be able to iterate through it. This is done with a `DataLoader`.\n",
    "\n",
    "The `DataLoader` also has some handy functionnalities:\n",
    "1. Batch iteration.\n",
    "2. Collate function.\n",
    "\n",
    "The collate function corresponds to the argument `collate_fn` of the constructor of `torch.utils.data.DataLoader`.\n",
    "\n",
    "This function is applied on the fly to each sample of the dataset.\n",
    "\n",
    "Our `IMDBDataset` only outputs raw texts. During the iteration through the `DataLoader`, we would like to:\n",
    "1. Clean the dataset with our cleaning function `preprocess_text`.\n",
    "2. Convert the text to a list of tokens.\n",
    "3. The `DataLoader`, for a batch size of `N`, should yield a dictionnary `{\"token_ids\": ..., \"labels\": ...,}` with `\"token_ids\"` corresponding to a list of `N` lists of tokens ids, and `\"labels\"` to a list of size `N` with the corresponding labels.\n",
    "\n",
    "🚧 **TODO** 🚧\n",
    "\n",
    "Write the `collate_fn` function so that the above requirements are satisfied (i.e., clean and tokenize)."
   ]
  },
  {
   "cell_type": "code",
   "execution_count": 153,
   "metadata": {
    "id": "hvbB5VMrSSzY"
   },
   "outputs": [],
   "source": [
    "def collate_fn(batch: list[tuple[str, int]]):\n",
    "  return dict(\n",
    "    labels=[label for _, label in batch],\n",
    "    token_ids=[tokenizer.encode(preprocess_text(text)) for text, _ in batch],\n",
    "  )"
   ]
  },
  {
   "cell_type": "code",
   "execution_count": 154,
   "metadata": {
    "id": "jGkthDygS5uT"
   },
   "outputs": [],
   "source": [
    "from torch.utils.data import DataLoader"
   ]
  },
  {
   "cell_type": "markdown",
   "metadata": {
    "id": "B0aAd6B2q4KC"
   },
   "source": [
    "🔴 **TEST**"
   ]
  },
  {
   "cell_type": "code",
   "execution_count": 156,
   "metadata": {
    "id": "YMkufgR1Sf8J"
   },
   "outputs": [],
   "source": [
    "for batch_size in range(1, 10):\n",
    "    dataloader = DataLoader(\n",
    "        dataset=imdb_dataset, batch_size=batch_size, collate_fn=collate_fn\n",
    "    )\n",
    "    for batch in dataloader:\n",
    "        token_ids = batch[\"token_ids\"]\n",
    "        labels = batch[\"labels\"]\n",
    "        assert len(token_ids) == batch_size\n",
    "        assert len(labels) == batch_size\n",
    "        assert isinstance(token_ids[0][0], int)\n",
    "        assert isinstance(labels[0], (int, np.int64))\n",
    "        break"
   ]
  },
  {
   "cell_type": "markdown",
   "metadata": {
    "id": "JacMmD5Kq6j8"
   },
   "source": [
    "🚧 **Question** 🚧\n",
    "\n",
    "Write a concise summary on what you learned with this lab.\n",
    "\n",
    "**Answer**\n",
    "\n",
    "We learned how to tokenize and clean text data, as well as how to use PyTorch's `Dataset` and `DataLoader` classes to create our own datasets and data loaders."
   ]
  }
 ],
 "metadata": {
  "colab": {
   "provenance": []
  },
  "kernelspec": {
   "display_name": "Python 3 (ipykernel)",
   "language": "python",
   "name": "python3"
  },
  "language_info": {
   "codemirror_mode": {
    "name": "ipython",
    "version": 3
   },
   "file_extension": ".py",
   "mimetype": "text/x-python",
   "name": "python",
   "nbconvert_exporter": "python",
   "pygments_lexer": "ipython3",
   "version": "3.12.3"
  },
  "toc": {
   "base_numbering": 1,
   "nav_menu": {},
   "number_sections": true,
   "sideBar": true,
   "skip_h1_title": false,
   "title_cell": "Table of Contents",
   "title_sidebar": "Contents",
   "toc_cell": false,
   "toc_position": {},
   "toc_section_display": true,
   "toc_window_display": false
  }
 },
 "nbformat": 4,
 "nbformat_minor": 4
}
